{
 "cells": [
  {
   "cell_type": "code",
   "execution_count": 7,
   "metadata": {
    "extensions": {
     "jupyter_dashboards": {
      "version": 1,
      "views": {
       "default_view": {
        "hidden": true
       }
      }
     }
    }
   },
   "outputs": [],
   "source": [
    "from selenium import webdriver\n",
    "from webdriver_manager.chrome import ChromeDriverManager\n",
    "import requests\n",
    "from bs4 import BeautifulSoup\n",
    "import pandas as pd\n",
    "from tqdm import tqdm_notebook\n",
    "import time\n",
    "from datetime import datetime, date\n",
    "from selenium.webdriver.common.keys import Keys\n",
    "from selenium.webdriver.support.ui import Select\n",
    "import re\n",
    "from selenium.webdriver.common.by import By\n",
    "from selenium.webdriver import ActionChains\n",
    "import sys\n",
    "import random\n",
    "from openpyxl import load_workbook\n",
    "# some handy functions to use along widgets\n",
    "from IPython.display import display, Markdown, clear_output\n",
    "# widget packages\n",
    "import ipywidgets as widgets\n",
    "import pandas as pd\n",
    "import sys\n",
    "from io import StringIO\n",
    "import numpy as np\n",
    "import matplotlib.pyplot as plt\n",
    "%matplotlib inline\n",
    "# import Alert  \n",
    "from selenium.webdriver.common.alert import Alert \n",
    "from ipywidgets import Button, Layout,FileUpload, IntProgress\n",
    "from selenium.webdriver.support.ui import WebDriverWait\n",
    "from selenium.webdriver.support import expected_conditions as EC\n",
    "from selenium.webdriver.chrome.options import Options"
   ]
  },
  {
   "cell_type": "code",
   "execution_count": null,
   "metadata": {
    "extensions": {
     "jupyter_dashboards": {
      "version": 1,
      "views": {
       "default_view": {
        "hidden": true
       }
      }
     }
    }
   },
   "outputs": [],
   "source": [
    "tab = widgets.Tab()    \n",
    "up = widgets.FileUpload(accept=\".csv\", multiple=True,counter = 0,description='選擇CSV')\n",
    "# a upload box show then click it and upload the test file\n",
    "up._counter = 0\n",
    "#up.observe(show_content,'value')\n",
    "\n",
    "\n",
    "button_upload = widgets.Button(\n",
    "    description='確認上傳',\n",
    "    button_style='warning',\n",
    "    tooltip='Click to Upload',\n",
    "    disabled=False,\n",
    "    icon='check')\n",
    "\n",
    "button_webcrawler = widgets.Button(\n",
    "    description='爬地籍資料下載KML',\n",
    "    button_style='info',\n",
    "    disabled=True,\n",
    "    tooltip='Click to webcrawler',\n",
    "    icon='bug',\n",
    "    layout=Layout(width='20%', height='28px'))\n",
    "\n",
    "out = widgets.Output(layout={'border': '1px solid black'})\n",
    "#\n",
    "progress = IntProgress()\n",
    "# SelectMultiple widget instantiation\n",
    "eraser = widgets.SelectMultiple(\n",
    "    options=['tab','\"'],\n",
    "    value=['tab'],\n",
    "    #rows=10,\n",
    "    description='Eraser: ',\n",
    "    disabled=False\n",
    ")\n",
    "\n",
    "x_axis = widgets.Dropdown(\n",
    "    options=[''],\n",
    "    value='',\n",
    "    description='X-Axis:',\n",
    "    disabled=False)\n",
    "y_axis = widgets.Dropdown(\n",
    "    options=[''],\n",
    "    value='',\n",
    "    description='Y-Axis:',\n",
    "    disabled=False)\n",
    "\n",
    "def alert_is_present(browser):\n",
    "    try:\n",
    "        alert = browser.switch_to.alert\n",
    "        alert.text\n",
    "        return alert\n",
    "    except:\n",
    "        return False\n",
    "\n",
    "def content_parser():\n",
    "    if up.value == {}:\n",
    "        with out:\n",
    "            print('No CSV loaded')    \n",
    "    else:\n",
    "        typ, content = \"\", \"\"\n",
    "        up_value = up.value\n",
    "        for i in up_value.keys():\n",
    "            typ = up_value[i][\"metadata\"][\"type\"]\n",
    "            if typ == (\"application/vnd.ms-excel\") or (\"txt/csv\"):\n",
    "                content = up_value[i][\"content\"]\n",
    "                content_str = str(content, 'utf-8')\n",
    "    \n",
    "            if eraser.value != {}: \n",
    "                for val in eraser.value:\n",
    "                    if val == \"tab\":\n",
    "                        content_str = content_str.replace(\"\\t\",\"\")\n",
    "                    else:\n",
    "                        content_str = content_str.replace(val,\"\")\n",
    "            if content_str != \"\":\n",
    "                str_io = StringIO(content_str) \n",
    "                return str_io\n",
    "            \n",
    "def df_converter():\n",
    "    content = content_parser()\n",
    "    if content is not None:\n",
    "        df = pd.read_csv(\n",
    "             content,  \n",
    "             index_col=False)\n",
    "        \n",
    "        return df\n",
    "    else:\n",
    "        return None\n",
    "\n",
    "def upload():\n",
    "    df = df_converter()\n",
    "    up._counter = 0\n",
    "    if {'town', 'sect','number','city'}.issubset(df.columns): \n",
    "        with out:\n",
    "            out.clear_output()\n",
    "            print('\\n欄位符合，好棒棒!!\\n')\n",
    "            print('\\n -----Your uploaded DF looks like:----- \\n')\n",
    "            df=df.dropna(axis=1,how=\"all\")\n",
    "            df=df.dropna(axis=0,how=\"all\")\n",
    "            #axis =1 代表欄,0代表列\n",
    "            #全部都是Na的列刪掉\n",
    "            button_webcrawler.description = '爬地籍資料下載KML'\n",
    "            button_webcrawler.disabled = False\n",
    "            if df is not None:\n",
    "                print(df)\n",
    "                x_axis.options = df.columns  # Dropdown Widget update\n",
    "                y_axis.options = df.columns  # Dropdown Widget update\n",
    "            else:\n",
    "                print('Configuration is wrong/missing...')\n",
    "                \n",
    "    else:\n",
    "        with out:\n",
    "            out.clear_output()\n",
    "            df=df.dropna(axis=1,how=\"all\")\n",
    "            df=df.dropna(axis=0,how=\"all\")\n",
    "            print('\\n欄位有錯啦，銃三小，說明都不看清楚\\n')\n",
    "            button_webcrawler.description = '不給妳爬啦幹'\n",
    "            button_webcrawler.disabled = True\n",
    "            if df is not None:\n",
    "                print(df)\n",
    "                x_axis.options = df.columns  # Dropdown Widget update\n",
    "                y_axis.options = df.columns  # Dropdown Widget update\n",
    "            else:\n",
    "                print('Configuration is wrong/missing...')\n",
    "   \n",
    "    return(df)\n",
    "################################################################以上是介面設定###################################################\n",
    "\n",
    "\n",
    "\n",
    "\n",
    "\n",
    "\n",
    "\n",
    "#随机获取一个agent\n",
    "def get_UserAgent():\n",
    "    return agentPools[random.randint(0,2)]\n",
    "\n",
    "\n",
    "\n",
    "\n",
    "def webcrawler():\n",
    "    df = upload()\n",
    "    df['sect'] = df['sect'].str.strip()\n",
    "    \n",
    "    #创建一个agent池\n",
    "    opts = Options()\n",
    "    agentPools=[\n",
    "        \"Mozilla/5.0 (Windows NT 10.0; Win64; x64) AppleWebKit/537.36 (KHTML, like Gecko) Chrome/78.0.3904.108 Safari/537.36\",\n",
    "        \"Mozilla/5.0 (Macintosh; Intel Mac OS X 10_7_2) AppleWebKit/537.36 (KHTML, like Gecko) Chrome/27.0.1453.93 Safari/537.36\",\n",
    "        \"Mozilla/5.0 (Windows NT 6.2; WOW64; rv:21.0) Gecko/20100101 Firefox/21.0\"\n",
    "    ]\n",
    "    headers={'User-Agent':get_UserAgent}\n",
    "    opts.add_argument(\"--incognito\")  # 使用無痕模式。\n",
    "    #proxy = \"socks5://localhost:9050\"\n",
    "    #opts.add_argument('--proxy-server={}'.format(proxy))  # 讓 selenium透過 tor訪問 internet\n",
    "    opts.add_argument(\"user-agent={}\".format(get_UserAgent))         # 使用偽造的 user-agent\n",
    "    \n",
    "    browser = webdriver.Chrome(ChromeDriverManager().install(),chrome_options=opts)\n",
    "    info = pd.DataFrame(columns = ['city','town','sect','number','lalo'])\n",
    "    \n",
    "    # Initialize a progess bar\n",
    "    progress.max = len(df)\n",
    "    progress.description = '我是進度條'\n",
    "    display(progress)\n",
    "    time.sleep(0.25)\n",
    "    \n",
    "\n",
    "    for i in tqdm_notebook(range(0,len(df))):\n",
    "        browser.get(\"https://easymap.land.moi.gov.tw/R02/Index\")\n",
    "        time.sleep(2)    \n",
    "        #browser.find_element_by_id('').click()  # 实例化Select\n",
    "        try:\n",
    "            browser.find_element_by_id('notShowSysinfo_id').click()\n",
    "        except:\n",
    "            pass\n",
    "        Select(browser.find_element_by_id('select_city_id')).select_by_visible_text(df['city'][i])\n",
    "        time.sleep(3)  \n",
    "        browser.find_element_by_id('select_town_id').click()\n",
    "        #點開下拉式選單\n",
    "        Select(browser.find_element_by_id('select_town_id')).select_by_visible_text(df['town'][i])\n",
    "        #點擊鄉鎮的名字\n",
    "        time.sleep(3)  \n",
    "        browser.find_element_by_id('select_sect_id').click()\n",
    "        #點開區段下拉式選單\n",
    "        s1 = Select(browser.find_element_by_id('select_sect_id'))\n",
    "        #設置選取id範圍\n",
    "        for each_option in s1.options:\n",
    "            if df['sect'][i] in each_option.text:\n",
    "                s1.select_by_visible_text(each_option.text)\n",
    "        #每一個在id範圍中的值去跑，如果有跟區段名字有部分吻合的就用那個text去點擊\n",
    "        \n",
    "        browser.find_element_by_id('landno').send_keys(df['number'][i])\n",
    "        time.sleep(4)  \n",
    "        browser.find_element_by_id('mapTile_id').click()\n",
    "        #點開地圖型別下拉式選單\n",
    "        Select(browser.find_element_by_id('mapTile_id')).select_by_visible_text(\"正射影像(航照圖)\")\n",
    "        #選擇地圖型別\n",
    "        \n",
    "        browser.find_element_by_id('land_button').click()\n",
    "        time.sleep(4)  \n",
    "        try:\n",
    "            source = browser.find_element_by_id('OpenLayers.Layer.Vector_28_vroot')\n",
    "            time.sleep(10)\n",
    "            try:\n",
    "                actionChains = ActionChains(browser)\n",
    "                actionChains.context_click(source).perform()\n",
    "                browser.find_element_by_xpath('/html/body/ul/li[2]').click()\n",
    "                browser.find_element_by_id('OpenLayers.Layer.Vector_28_vroot').click()\n",
    "            except:\n",
    "                actionChains = ActionChains(browser)\n",
    "                browser.find_element_by_id('OpenLayers.Control.PanZoomBar_43_zoomout_innerImage').click()\n",
    "                actionChains.context_click(source).perform()\n",
    "                browser.find_element_by_xpath('/html/body/ul/li[2]').click()\n",
    "                browser.find_element_by_id('OpenLayers.Layer.Vector_28_vroot').click()\n",
    "\n",
    "            soup7 = BeautifulSoup(browser.page_source, \"html.parser\") \n",
    "            blocks = soup7.find(\"span\", {\"id\": \"coordDisplayLonLat\"})\n",
    "            pngname = str(df['town'][i]) + str(df['sect'][i]) + str(df['number'][i])\n",
    "            filename = pngname + \".png\"\n",
    "            browser.save_screenshot(filename)\n",
    "            com_info2 = pd.DataFrame({\"city\":[df['city'][i]], \n",
    "                            \"town\":[df['town'][i]],\n",
    "                           \"sect\":[df['sect'][i]],\n",
    "                           \"number\":df['number'][i],          \n",
    "                           'lalo':[blocks.text]}) \n",
    "            info = pd.concat([info, com_info2], axis = 0)\n",
    "            #用一開始建立的info來跟後面的com_info2使用 concat 合併 axis=0 為直向合併\n",
    "            info = info.reset_index(drop = True)\n",
    "            info[['latitude','longitude']] = info.lalo.str.split(\",\",expand=True,)\n",
    "            info['latitude'] = pd.to_numeric(info['latitude'])\n",
    "            info['longitude'] = pd.to_numeric(info['longitude'])\n",
    "            info.to_excel(\"area_df_clean.xlsx\")\n",
    "       \n",
    "        except:\n",
    "            # 如果有弹出框 点击确定\n",
    "            if alert_is_present(browser):\n",
    "                alert = Alert(browser)\n",
    "                alert.accept()\n",
    "                pngname = str(df['town'][i]) + str(df['sect'][i]) + str(df['number'][i])\n",
    "                filename = pngname + \".png\"\n",
    "                browser.save_screenshot(filename)\n",
    "                com_info2 = pd.DataFrame({\"city\":[df['city'][i]], \n",
    "                                \"town\":[df['town'][i]],\n",
    "                               \"sect\":[df['sect'][i]],\n",
    "                               \"number\":df['number'][i],          \n",
    "                               'lalo':\"欄位有誤\"}) \n",
    "                info = pd.concat([info, com_info2], axis = 0)\n",
    "                #用一開始建立的info來跟後面的com_info2使用 concat 合併 axis=0 為直向合併\n",
    "                info = info.reset_index(drop = True)\n",
    "                info[['latitude','longitude']] = info.lalo.str.split(\",\",expand=True,)\n",
    "                info['latitude'] = pd.to_numeric(info['latitude'])\n",
    "                info['longitude'] = pd.to_numeric(info['longitude'])\n",
    "                info.to_excel(\"area_df_clean.xlsx\")\n",
    "         # 隨機暫停 1~5 秒\n",
    "        time.sleep(random.uniform(1, 60))\n",
    "        \n",
    "        #progress bar\n",
    "        progress.value += 1\n",
    "        browser.delete_all_cookies()\n",
    "        if progress.value in range(0,len(df),20):\n",
    "            print(\"暫停一下喘口氣\")\n",
    "            time.sleep(600)\n",
    "    progress.description = '(Done)'\n",
    "        \n",
    "        \n",
    "        \n",
    "\n",
    "    #Open the file to be written.\n",
    "    #######\n",
    "    f = open('天下地籍.kml','w',encoding = 'UTF-8')\n",
    "\n",
    "    #Writing the kml file.\n",
    "    f.write(\"<?xml version='1.0' encoding='UTF-8'?>\\n\")\n",
    "    f.write(\"<kml xmlns='http://earth.google.com/kml/2.1'>\\n\")\n",
    "    f.write(\"<Document>\\n\")\n",
    "    for index, row in info.iterrows():\n",
    "        f.write(\"   <Placemark>\\n\")\n",
    "        f.write(\"       <name>\" + str(row['city'])+str(row['town'])+str(row['sect'])+str(row['number']) + \"</name>\\n\")\n",
    "        f.write(\"       <description>\" + str(row['city'])+str(row['town'])+str(row['sect'])+str(row['number'])+ \"</description>\\n\")\n",
    "        f.write(\"       <Point>\\n\")\n",
    "        f.write(\"           <coordinates>\" + str(row['longitude']) + \",\" + str(row['latitude']) + \",\"  + \"</coordinates>\\n\")\n",
    "        #因為,是文字，所以不能直接用數字加上去，要轉換成string\n",
    "        f.write(\"       </Point>\\n\")\n",
    "        f.write(\"   </Placemark>\\n\")\n",
    "    f.write(\"</Document>\\n\")\n",
    "    f.write(\"</kml>\\n\")\n",
    "    f.close()\n",
    "    \n",
    "\n",
    "\n",
    "\n",
    "        \n",
    "            \n",
    "def preview_clicked(b):\n",
    "    preview()\n",
    "def webcrawler_clicked(b):\n",
    "    webcrawler()\n",
    "def upload_clicked(b):\n",
    "    upload()\n",
    "\n"
   ]
  },
  {
   "cell_type": "code",
   "execution_count": 3,
   "metadata": {
    "extensions": {
     "jupyter_dashboards": {
      "version": 1,
      "views": {
       "default_view": {
        "hidden": true
       }
      }
     }
    }
   },
   "outputs": [
    {
     "ename": "NameError",
     "evalue": "name 'button_upload' is not defined",
     "output_type": "error",
     "traceback": [
      "\u001b[1;31m---------------------------------------------------------------------------\u001b[0m",
      "\u001b[1;31mNameError\u001b[0m                                 Traceback (most recent call last)",
      "\u001b[1;32m<ipython-input-3-c216e55344e6>\u001b[0m in \u001b[0;36m<module>\u001b[1;34m\u001b[0m\n\u001b[0;32m      1\u001b[0m \u001b[1;31m# Assigning functionality to buttons\u001b[0m\u001b[1;33m\u001b[0m\u001b[1;33m\u001b[0m\u001b[1;33m\u001b[0m\u001b[0m\n\u001b[1;32m----> 2\u001b[1;33m \u001b[0mbutton_upload\u001b[0m\u001b[1;33m.\u001b[0m\u001b[0mon_click\u001b[0m\u001b[1;33m(\u001b[0m\u001b[0mupload_clicked\u001b[0m\u001b[1;33m)\u001b[0m\u001b[1;33m\u001b[0m\u001b[1;33m\u001b[0m\u001b[0m\n\u001b[0m\u001b[0;32m      3\u001b[0m \u001b[0mbutton_webcrawler\u001b[0m\u001b[1;33m.\u001b[0m\u001b[0mon_click\u001b[0m\u001b[1;33m(\u001b[0m\u001b[0mwebcrawler_clicked\u001b[0m\u001b[1;33m)\u001b[0m\u001b[1;33m\u001b[0m\u001b[1;33m\u001b[0m\u001b[0m\n\u001b[0;32m      4\u001b[0m \u001b[1;33m\u001b[0m\u001b[0m\n\u001b[0;32m      5\u001b[0m accordion = widgets.Accordion(children=[\n",
      "\u001b[1;31mNameError\u001b[0m: name 'button_upload' is not defined"
     ]
    }
   ],
   "source": [
    "# Assigning functionality to buttons\n",
    "button_upload.on_click(upload_clicked)\n",
    "button_webcrawler.on_click(webcrawler_clicked)\n",
    "\n",
    "accordion = widgets.Accordion(children=[\n",
    "    up])\n",
    "\n",
    "accordion_box = widgets.VBox([\n",
    "    accordion,\n",
    "    progress, \n",
    "    widgets.HBox([button_upload, button_webcrawler]),\n",
    "    out\n",
    "])\n",
    "tab.set_title(0, \"Upload\")\n"
   ]
  },
  {
   "cell_type": "code",
   "execution_count": 4,
   "metadata": {
    "extensions": {
     "jupyter_dashboards": {
      "version": 1,
      "views": {
       "default_view": {
        "col": 0,
        "height": 8,
        "row": 1,
        "width": 12
       }
      }
     }
    },
    "scrolled": false
   },
   "outputs": [
    {
     "ename": "NameError",
     "evalue": "name 'accordion_box' is not defined",
     "output_type": "error",
     "traceback": [
      "\u001b[1;31m---------------------------------------------------------------------------\u001b[0m",
      "\u001b[1;31mNameError\u001b[0m                                 Traceback (most recent call last)",
      "\u001b[1;32m<ipython-input-4-d349f100d594>\u001b[0m in \u001b[0;36m<module>\u001b[1;34m\u001b[0m\n\u001b[1;32m----> 1\u001b[1;33m \u001b[0maccordion_box\u001b[0m\u001b[1;33m\u001b[0m\u001b[1;33m\u001b[0m\u001b[0m\n\u001b[0m",
      "\u001b[1;31mNameError\u001b[0m: name 'accordion_box' is not defined"
     ]
    }
   ],
   "source": [
    "accordion_box"
   ]
  },
  {
   "cell_type": "code",
   "execution_count": null,
   "metadata": {},
   "outputs": [
    {
     "name": "stderr",
     "output_type": "stream",
     "text": [
      "[WDM] - Current google-chrome version is 87.0.4280\n",
      "[WDM] - Get LATEST driver version for 87.0.4280\n",
      "[WDM] - Driver [C:\\Users\\Lenovo\\.wdm\\drivers\\chromedriver\\win32\\87.0.4280.88\\chromedriver.exe] found in cache\n"
     ]
    },
    {
     "name": "stdout",
     "output_type": "stream",
     "text": [
      " \n"
     ]
    },
    {
     "data": {
      "application/vnd.jupyter.widget-view+json": {
       "model_id": "2ab5e2fa1fd44c6a9a8fbfb592523675",
       "version_major": 2,
       "version_minor": 0
      },
      "text/plain": [
       "IntProgress(value=0, max=55)"
      ]
     },
     "metadata": {},
     "output_type": "display_data"
    },
    {
     "name": "stderr",
     "output_type": "stream",
     "text": [
      "C:\\Users\\Lenovo\\anaconda3\\lib\\site-packages\\ipykernel_launcher.py:6: TqdmDeprecationWarning: This function will be removed in tqdm==5.0.0\n",
      "Please use `tqdm.notebook.tqdm` instead of `tqdm.tqdm_notebook`\n",
      "  \n"
     ]
    },
    {
     "data": {
      "application/vnd.jupyter.widget-view+json": {
       "model_id": "f1a8a64a85174329906958f1ec6ac7cd",
       "version_major": 2,
       "version_minor": 0
      },
      "text/plain": [
       "HBox(children=(FloatProgress(value=0.0, max=55.0), HTML(value='')))"
      ]
     },
     "metadata": {},
     "output_type": "display_data"
    },
    {
     "name": "stdout",
     "output_type": "stream",
     "text": [
      "1\n",
      "2\n",
      "3\n",
      "4\n",
      "5\n",
      "6\n",
      "7\n",
      "8\n",
      "9\n",
      "10\n",
      "暫停一下喘口氣\n"
     ]
    }
   ],
   "source": [
    "browser = webdriver.Chrome(ChromeDriverManager().install())\n",
    "df = pd.read_csv(r\"C:\\Users\\Lenovo\\數據分析\\天下專案\\苗栗希望不要出現bug.csv\") \n",
    "progress = IntProgress()\n",
    "progress.max = len(df)\n",
    "display(progress)\n",
    "for i in tqdm_notebook(range(0,len(df))):\n",
    "    browser.get(\"https://easymap.land.moi.gov.tw/R02/Index\")\n",
    "    time.sleep(2)\n",
    "    #progress bar\n",
    "    progress.value += 1\n",
    "    print(progress.value)\n",
    "    if progress.value in range(0,len(df),10):\n",
    "        print(\"暫停一下喘口氣\")\n",
    "        time.sleep(600)\n",
    "    #browser.find_element_by_id('').click()  # 实例化Select\n",
    "    try:\n",
    "        browser.find_element_by_id('notShowSysinfo_id').click()\n",
    "    except:\n",
    "        pass\n",
    "\n",
    "   \n",
    "    "
   ]
  },
  {
   "cell_type": "code",
   "execution_count": 15,
   "metadata": {},
   "outputs": [
    {
     "name": "stdout",
     "output_type": "stream",
     "text": [
      "1\n"
     ]
    }
   ],
   "source": [
    "print(progress.value)"
   ]
  },
  {
   "cell_type": "code",
   "execution_count": 27,
   "metadata": {
    "extensions": {
     "jupyter_dashboards": {
      "version": 1,
      "views": {
       "default_view": {
        "hidden": true
       }
      }
     }
    }
   },
   "outputs": [
    {
     "name": "stderr",
     "output_type": "stream",
     "text": [
      "[WDM] - Current google-chrome version is 87.0.4280\n",
      "[WDM] - Get LATEST driver version for 87.0.4280\n",
      "[WDM] - Driver [C:\\Users\\Lenovo\\.wdm\\drivers\\chromedriver\\win32\\87.0.4280.88\\chromedriver.exe] found in cache\n"
     ]
    },
    {
     "name": "stdout",
     "output_type": "stream",
     "text": [
      " \n"
     ]
    }
   ],
   "source": [
    "browser = webdriver.Chrome(ChromeDriverManager().install())\n",
    "browser.get(\"https://easymap.land.moi.gov.tw/R02/Index\")\n",
    "time.sleep(2)    \n",
    "#browser.find_element_by_id('').click()  # 实例化Select\n",
    "try:\n",
    "    browser.find_element_by_id('notShowSysinfo_id').click()\n",
    "except:\n",
    "    pass\n",
    "Select(browser.find_element_by_id('select_city_id')).select_by_visible_text('苗栗縣')\n",
    "time.sleep(3)  \n",
    "browser.find_element_by_id('select_town_id').click()\n",
    "#點開下拉式選單\n",
    "Select(browser.find_element_by_id('select_town_id')).select_by_visible_text('通霄鎮')\n",
    "#點擊鄉鎮的名字\n",
    "time.sleep(3)  \n",
    "browser.find_element_by_id('select_sect_id').click()\n",
    "#點開區段下拉式選單\n",
    "Select(browser.find_element_by_id('select_sect_id')).select_by_visible_text('(0327)北勢窩段')\n",
    "\n",
    "#每一個在id範圍中的值去跑，如果有跟區段名字有部分吻合的就用那個text去點擊\n",
    "number = ('1350')\n",
    "browser.find_element_by_id('landno').send_keys(number)\n",
    "time.sleep(4)  \n",
    "browser.find_element_by_id('mapTile_id').click()\n",
    "#點開地圖型別下拉式選單\n",
    "\n",
    "browser.find_element_by_id('land_button').click()\n",
    "browser.save_screenshot('test.jpg')\n",
    "element = browser.find_element_by_id('captchaImgID')\n",
    "left = element.location['x']\n",
    "right = element.location['x'] + element.size['width']\n",
    "top = element.location['y']\n",
    "bottom = element.location['y'] + element.size['height']\n",
    "\n",
    "from PIL import Image\n",
    "img = Image.open('test.jpg')\n",
    "img = img.crop((left, top, right, bottom))"
   ]
  },
  {
   "cell_type": "code",
   "execution_count": 26,
   "metadata": {},
   "outputs": [
    {
     "data": {
      "text/plain": [
       "0"
      ]
     },
     "execution_count": 26,
     "metadata": {},
     "output_type": "execute_result"
    }
   ],
   "source": [
    "element.location['x']"
   ]
  },
  {
   "cell_type": "code",
   "execution_count": null,
   "metadata": {
    "extensions": {
     "jupyter_dashboards": {
      "version": 1,
      "views": {
       "default_view": {
        "col": 0,
        "height": 2,
        "row": 17,
        "width": 12
       }
      }
     }
    }
   },
   "outputs": [],
   "source": [
    "import pytesseract\n",
    "from PIL import Image\n",
    "image = Image.open(r'C:\\Users\\Lenovo\\數據分析\\天下專案\\ImageNumber.jpg')\n",
    "image"
   ]
  },
  {
   "cell_type": "code",
   "execution_count": null,
   "metadata": {
    "extensions": {
     "jupyter_dashboards": {
      "version": 1,
      "views": {
       "default_view": {
        "col": 0,
        "height": 2,
        "row": 19,
        "width": 12
       }
      }
     }
    }
   },
   "outputs": [],
   "source": [
    "from PIL import Image,ImageEnhance,ImageFilter\n",
    "imgry = image.convert('L')\n",
    "imgry"
   ]
  },
  {
   "cell_type": "code",
   "execution_count": null,
   "metadata": {
    "extensions": {
     "jupyter_dashboards": {
      "version": 1,
      "views": {
       "default_view": {
        "col": 0,
        "height": 2,
        "row": 21,
        "width": 12
       }
      }
     }
    }
   },
   "outputs": [],
   "source": [
    "threshold = 1\n",
    "\n",
    "table = []\n",
    "\n",
    "for i in range(256):\n",
    "\n",
    "    if i < threshold:\n",
    "\n",
    "        table.append(0)\n",
    "\n",
    "    else:\n",
    "\n",
    "        table.append(1)\n",
    "\n",
    "out = imgry.point(table, '1')\n",
    "out"
   ]
  },
  {
   "cell_type": "code",
   "execution_count": null,
   "metadata": {
    "extensions": {
     "jupyter_dashboards": {
      "version": 1,
      "views": {
       "default_view": {
        "col": 0,
        "height": 2,
        "row": 23,
        "width": 12
       }
      }
     }
    }
   },
   "outputs": [],
   "source": [
    "pytesseract.pytesseract.tesseract_cmd = r'C:\\Program Files\\Tesseract-OCR\\tesseract.exe'\n",
    "code = pytesseract.image_to_string(dst,config='--psm 13 --oem 3 -c tessedit_char_whitelist=0123456789')\n",
    "print(code)"
   ]
  },
  {
   "cell_type": "code",
   "execution_count": null,
   "metadata": {
    "extensions": {
     "jupyter_dashboards": {
      "version": 1,
      "views": {
       "default_view": {
        "col": 0,
        "height": 2,
        "row": 25,
        "width": 12
       }
      }
     }
    }
   },
   "outputs": [],
   "source": [
    "import pytesseract\n",
    "from PIL import Image\n",
    "import cv2\n",
    "img = cv2.imread(r'C:\\Users\\Lenovo\\ImageNumber.jpg')\n",
    "img"
   ]
  },
  {
   "cell_type": "code",
   "execution_count": null,
   "metadata": {
    "extensions": {
     "jupyter_dashboards": {
      "version": 1,
      "views": {
       "default_view": {
        "col": 0,
        "height": 2,
        "row": 27,
        "width": 12
       }
      }
     }
    }
   },
   "outputs": [],
   "source": [
    "dst = cv2.fastNlMeansDenoisingColored(img, None, 6, 20 , 8 , 8)\n",
    "\n",
    "import matplotlib.pyplot as plt\n",
    "plt.subplot(121)\n",
    "plt.imshow(img)\n",
    "plt.subplot(122)\n",
    "plt.imshow(dst)\n"
   ]
  },
  {
   "cell_type": "code",
   "execution_count": null,
   "metadata": {
    "extensions": {
     "jupyter_dashboards": {
      "version": 1,
      "views": {
       "default_view": {
        "hidden": true
       }
      }
     }
    }
   },
   "outputs": [],
   "source": []
  },
  {
   "cell_type": "code",
   "execution_count": null,
   "metadata": {
    "extensions": {
     "jupyter_dashboards": {
      "version": 1,
      "views": {
       "default_view": {
        "col": 0,
        "height": 2,
        "row": 31,
        "width": 12
       }
      }
     }
    }
   },
   "outputs": [],
   "source": [
    "imgarr = cv2.cvtColor(thresh, cv2.COLOR_BGR2GRAY)\n",
    "import numpy as np\n",
    "from sklearn.preprocessing import binarize\n",
    "imagedata = np.where(imgarr == 255)"
   ]
  },
  {
   "cell_type": "code",
   "execution_count": null,
   "metadata": {
    "extensions": {
     "jupyter_dashboards": {
      "version": 1,
      "views": {
       "default_view": {
        "col": 0,
        "height": 2,
        "row": 33,
        "width": 12
       }
      }
     }
    }
   },
   "outputs": [],
   "source": [
    "import matplotlib.pyplot as plt\n",
    "plt.scatter(imagedata[1], 47 - imagedata[0], s = 100, c = 'red', label = 'Cluster 1')\n",
    "plt.ylim(ymin=0)  \n",
    "plt.ylim(ymax=47) \n",
    "plt.show()"
   ]
  }
 ],
 "metadata": {
  "extensions": {
   "jupyter_dashboards": {
    "activeView": "default_view",
    "version": 1,
    "views": {
     "default_view": {
      "cellMargin": 10,
      "defaultCellHeight": 40,
      "maxColumns": 12,
      "name": "active_view",
      "type": "grid"
     }
    }
   }
  },
  "hide_input": false,
  "kernelspec": {
   "display_name": "Python 3",
   "language": "python",
   "name": "python3"
  },
  "language_info": {
   "codemirror_mode": {
    "name": "ipython",
    "version": 3
   },
   "file_extension": ".py",
   "mimetype": "text/x-python",
   "name": "python",
   "nbconvert_exporter": "python",
   "pygments_lexer": "ipython3",
   "version": "3.7.6"
  },
  "varInspector": {
   "cols": {
    "lenName": 16,
    "lenType": 16,
    "lenVar": 40
   },
   "kernels_config": {
    "python": {
     "delete_cmd_postfix": "",
     "delete_cmd_prefix": "del ",
     "library": "var_list.py",
     "varRefreshCmd": "print(var_dic_list())"
    },
    "r": {
     "delete_cmd_postfix": ") ",
     "delete_cmd_prefix": "rm(",
     "library": "var_list.r",
     "varRefreshCmd": "cat(var_dic_list()) "
    }
   },
   "oldHeight": 561.403222,
   "position": {
    "height": "583.181px",
    "left": "1518.67px",
    "right": "20px",
    "top": "511px",
    "width": "350px"
   },
   "types_to_exclude": [
    "module",
    "function",
    "builtin_function_or_method",
    "instance",
    "_Feature"
   ],
   "varInspector_section_display": "block",
   "window_display": false
  }
 },
 "nbformat": 4,
 "nbformat_minor": 2
}
