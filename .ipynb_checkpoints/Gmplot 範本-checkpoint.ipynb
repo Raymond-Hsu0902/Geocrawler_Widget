{
 "cells": [
  {
   "cell_type": "code",
   "execution_count": 52,
   "metadata": {},
   "outputs": [],
   "source": [
    "from selenium import webdriver\n",
    "import requests\n",
    "from bs4 import BeautifulSoup\n",
    "import pandas as pd\n",
    "from tqdm import tqdm_notebook\n",
    "import time\n",
    "from datetime import datetime, date\n",
    "from selenium.webdriver.common.keys import Keys\n",
    "from selenium.webdriver.support.ui import Select\n",
    "import re\n",
    "from selenium.webdriver.common.by import By\n",
    "from selenium.webdriver import ActionChains\n",
    "import sys\n"
   ]
  },
  {
   "cell_type": "code",
   "execution_count": 2,
   "metadata": {},
   "outputs": [],
   "source": [
    "land = pd.read_csv(r\"C:\\Users\\Lenovo\\數據分析\\天下專案\\land.csv\")"
   ]
  },
  {
   "cell_type": "code",
   "execution_count": 30,
   "metadata": {},
   "outputs": [
    {
     "data": {
      "text/plain": [
       "pandas.core.frame.DataFrame"
      ]
     },
     "execution_count": 30,
     "metadata": {},
     "output_type": "execute_result"
    }
   ],
   "source": [
    "type(land)"
   ]
  },
  {
   "cell_type": "code",
   "execution_count": 4,
   "metadata": {},
   "outputs": [],
   "source": [
    "city = \"苗栗縣\"\n",
    "town = \"通霄鎮\"\n",
    "sect = \"(0327)北勢窩段\"\n",
    "number = 539"
   ]
  },
  {
   "cell_type": "code",
   "execution_count": 72,
   "metadata": {},
   "outputs": [
    {
     "name": "stderr",
     "output_type": "stream",
     "text": [
      "C:\\Users\\Lenovo\\anaconda3\\lib\\site-packages\\ipykernel_launcher.py:5: TqdmDeprecationWarning: This function will be removed in tqdm==5.0.0\n",
      "Please use `tqdm.notebook.tqdm` instead of `tqdm.tqdm_notebook`\n",
      "  \"\"\"\n"
     ]
    },
    {
     "data": {
      "application/vnd.jupyter.widget-view+json": {
       "model_id": "f891ff662c0c44fb901dca47ee5b9beb",
       "version_major": 2,
       "version_minor": 0
      },
      "text/plain": [
       "HBox(children=(FloatProgress(value=0.0, max=3.0), HTML(value='')))"
      ]
     },
     "metadata": {},
     "output_type": "display_data"
    },
    {
     "name": "stdout",
     "output_type": "stream",
     "text": [
      "\n"
     ]
    }
   ],
   "source": [
    "browser = webdriver.Chrome(executable_path = \"C:\\Program Files (x86)\\Google\\Chrome\\Application\\chromedriver.exe\")\n",
    "\n",
    "info = pd.DataFrame(columns = ['city','town','sect','number','lalo'])\n",
    "\n",
    "for i in tqdm_notebook(range(1,4)):\n",
    "    browser.get(\"https://easymap.land.moi.gov.tw/R02/Index\")\n",
    "    time.sleep(2)\n",
    "    #browser.find_element_by_id('').click()  # 实例化Select\n",
    "    try:\n",
    "        browser.find_element_by_id('notShowSysinfo_id').click()\n",
    "    except:\n",
    "        pass\n",
    "    Select(browser.find_element_by_id('select_city_id')).select_by_visible_text(land['city'][i])\n",
    "    time.sleep(4)\n",
    "    browser.find_element_by_id('select_town_id').click()\n",
    "    Select(browser.find_element_by_id('select_town_id')).select_by_visible_text(land['town'][i])\n",
    "    time.sleep(4)\n",
    "    browser.find_element_by_id('select_sect_id').click()\n",
    "    Select(browser.find_element_by_id('select_sect_id')).select_by_visible_text(land['sect'][i])\n",
    "    time.sleep(5)\n",
    "    browser.find_element_by_id('landno').send_keys(land['number'][i])\n",
    "    browser.find_element_by_id('land_button').click()\n",
    "    actionChains = ActionChains(browser)\n",
    "    time.sleep(2)\n",
    "    source = browser.find_element_by_id('OpenLayers.Layer.Vector_28_vroot')\n",
    "    time.sleep(10)\n",
    "    actionChains.context_click(source).perform()\n",
    "    browser.find_element_by_xpath('/html/body/ul/li[2]').click()\n",
    "    soup7 = BeautifulSoup(browser.page_source, \"html.parser\") \n",
    "    blocks = soup7.find(\"span\", {\"id\": \"coordDisplayLonLat\"})\n",
    "    com_info2 = pd.DataFrame({\"city\":[land['city'][i]], \n",
    "                    \"town\":[land['town'][i]],\n",
    "                   \"sect\":[land['sect'][i]],\n",
    "                   \"number\":land['number'][i],          \n",
    "                   'lalo':[blocks.text]}) \n",
    "    info = pd.concat([info, com_info2], axis = 0)\n",
    "    #用一開始建立的info來跟後面的com_info2使用 concat 合併 axis=0 為直向合併\n",
    "    info = info.reset_index(drop = True)"
   ]
  },
  {
   "cell_type": "code",
   "execution_count": 71,
   "metadata": {},
   "outputs": [
    {
     "data": {
      "text/html": [
       "<div>\n",
       "<style scoped>\n",
       "    .dataframe tbody tr th:only-of-type {\n",
       "        vertical-align: middle;\n",
       "    }\n",
       "\n",
       "    .dataframe tbody tr th {\n",
       "        vertical-align: top;\n",
       "    }\n",
       "\n",
       "    .dataframe thead th {\n",
       "        text-align: right;\n",
       "    }\n",
       "</style>\n",
       "<table border=\"1\" class=\"dataframe\">\n",
       "  <thead>\n",
       "    <tr style=\"text-align: right;\">\n",
       "      <th></th>\n",
       "      <th>city</th>\n",
       "      <th>town</th>\n",
       "      <th>sect</th>\n",
       "      <th>lalo</th>\n",
       "    </tr>\n",
       "  </thead>\n",
       "  <tbody>\n",
       "    <tr>\n",
       "      <th>0</th>\n",
       "      <td>苗栗縣</td>\n",
       "      <td>通霄鎮</td>\n",
       "      <td>(0339)大坪頂段</td>\n",
       "      <td>24.37674,120.70858</td>\n",
       "    </tr>\n",
       "  </tbody>\n",
       "</table>\n",
       "</div>"
      ],
      "text/plain": [
       "  city town        sect                lalo\n",
       "0  苗栗縣  通霄鎮  (0339)大坪頂段  24.37674,120.70858"
      ]
     },
     "execution_count": 71,
     "metadata": {},
     "output_type": "execute_result"
    }
   ],
   "source": [
    "df1 = pd.DataFrame({\"city\":[land['city'][1]], \n",
    "                    \"town\":[land['town'][1]],\n",
    "                   \"sect\":[land['sect'][1]],\n",
    "                   'lalo':[blocks.text]}) \n",
    "df1"
   ]
  },
  {
   "cell_type": "code",
   "execution_count": 62,
   "metadata": {},
   "outputs": [],
   "source": []
  },
  {
   "cell_type": "code",
   "execution_count": 73,
   "metadata": {},
   "outputs": [
    {
     "data": {
      "text/html": [
       "<div>\n",
       "<style scoped>\n",
       "    .dataframe tbody tr th:only-of-type {\n",
       "        vertical-align: middle;\n",
       "    }\n",
       "\n",
       "    .dataframe tbody tr th {\n",
       "        vertical-align: top;\n",
       "    }\n",
       "\n",
       "    .dataframe thead th {\n",
       "        text-align: right;\n",
       "    }\n",
       "</style>\n",
       "<table border=\"1\" class=\"dataframe\">\n",
       "  <thead>\n",
       "    <tr style=\"text-align: right;\">\n",
       "      <th></th>\n",
       "      <th>city</th>\n",
       "      <th>town</th>\n",
       "      <th>sect</th>\n",
       "      <th>number</th>\n",
       "      <th>lalo</th>\n",
       "    </tr>\n",
       "  </thead>\n",
       "  <tbody>\n",
       "    <tr>\n",
       "      <th>0</th>\n",
       "      <td>苗栗縣</td>\n",
       "      <td>通霄鎮</td>\n",
       "      <td>(0339)大坪頂段</td>\n",
       "      <td>140-30</td>\n",
       "      <td>24.44724,120.70499</td>\n",
       "    </tr>\n",
       "    <tr>\n",
       "      <th>1</th>\n",
       "      <td>苗栗縣</td>\n",
       "      <td>通霄鎮</td>\n",
       "      <td>(0339)大坪頂段</td>\n",
       "      <td>323</td>\n",
       "      <td>24.44328,120.70565</td>\n",
       "    </tr>\n",
       "    <tr>\n",
       "      <th>2</th>\n",
       "      <td>苗栗縣</td>\n",
       "      <td>苑裡鎮</td>\n",
       "      <td>(1111)南勢林坑段</td>\n",
       "      <td>1061</td>\n",
       "      <td>24.37674,120.70858</td>\n",
       "    </tr>\n",
       "  </tbody>\n",
       "</table>\n",
       "</div>"
      ],
      "text/plain": [
       "  city town         sect  number                lalo\n",
       "0  苗栗縣  通霄鎮   (0339)大坪頂段  140-30  24.44724,120.70499\n",
       "1  苗栗縣  通霄鎮   (0339)大坪頂段     323  24.44328,120.70565\n",
       "2  苗栗縣  苑裡鎮  (1111)南勢林坑段    1061  24.37674,120.70858"
      ]
     },
     "execution_count": 73,
     "metadata": {},
     "output_type": "execute_result"
    }
   ],
   "source": [
    "info"
   ]
  }
 ],
 "metadata": {
  "kernelspec": {
   "display_name": "Python 3",
   "language": "python",
   "name": "python3"
  },
  "language_info": {
   "codemirror_mode": {
    "name": "ipython",
    "version": 3
   },
   "file_extension": ".py",
   "mimetype": "text/x-python",
   "name": "python",
   "nbconvert_exporter": "python",
   "pygments_lexer": "ipython3",
   "version": "3.7.6"
  },
  "varInspector": {
   "cols": {
    "lenName": 16,
    "lenType": 16,
    "lenVar": 40
   },
   "kernels_config": {
    "python": {
     "delete_cmd_postfix": "",
     "delete_cmd_prefix": "del ",
     "library": "var_list.py",
     "varRefreshCmd": "print(var_dic_list())"
    },
    "r": {
     "delete_cmd_postfix": ") ",
     "delete_cmd_prefix": "rm(",
     "library": "var_list.r",
     "varRefreshCmd": "cat(var_dic_list()) "
    }
   },
   "oldHeight": 561.403222,
   "position": {
    "height": "583.181px",
    "left": "1518.67px",
    "right": "20px",
    "top": "511px",
    "width": "350px"
   },
   "types_to_exclude": [
    "module",
    "function",
    "builtin_function_or_method",
    "instance",
    "_Feature"
   ],
   "varInspector_section_display": "block",
   "window_display": false
  }
 },
 "nbformat": 4,
 "nbformat_minor": 2
}
