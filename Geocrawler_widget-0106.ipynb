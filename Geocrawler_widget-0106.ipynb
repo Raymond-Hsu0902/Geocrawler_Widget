{
 "cells": [
  {
   "cell_type": "code",
   "execution_count": 3,
   "metadata": {},
   "outputs": [
    {
     "name": "stdout",
     "output_type": "stream",
     "text": [
      "Collecting selenium\n",
      "  Using cached selenium-3.141.0-py2.py3-none-any.whl (904 kB)\n",
      "Requirement already satisfied: urllib3 in c:\\users\\lenovo\\appdata\\roaming\\python\\python36\\site-packages (from selenium) (1.25.9)\n",
      "Installing collected packages: selenium\n",
      "Successfully installed selenium-3.141.0\n",
      "Note: you may need to restart the kernel to use updated packages.\n"
     ]
    },
    {
     "name": "stderr",
     "output_type": "stream",
     "text": [
      "WARNING: You are using pip version 19.2.3; however, version 21.0.1 is available.\n",
      "You should consider upgrading via the 'C:\\Users\\Lenovo\\anaconda3\\envs\\snakes\\python.exe -m pip install --upgrade pip' command.\n"
     ]
    }
   ],
   "source": [
    "pip install selenium "
   ]
  },
  {
   "cell_type": "code",
   "execution_count": 4,
   "metadata": {},
   "outputs": [
    {
     "name": "stdout",
     "output_type": "stream",
     "text": [
      "Collecting webdriver_manager\n",
      "  Downloading webdriver_manager-3.3.0-py2.py3-none-any.whl (16 kB)\n",
      "Requirement already satisfied: requests in c:\\users\\lenovo\\appdata\\roaming\\python\\python36\\site-packages (from webdriver_manager) (2.24.0)\n",
      "Collecting configparser\n",
      "  Downloading configparser-5.0.2-py3-none-any.whl (19 kB)\n",
      "Collecting crayons\n",
      "  Using cached crayons-0.4.0-py2.py3-none-any.whl (4.6 kB)\n",
      "Requirement already satisfied: colorama in c:\\users\\lenovo\\appdata\\roaming\\python\\python36\\site-packages (from crayons->webdriver_manager) (0.4.3)\n",
      "Requirement already satisfied: idna<3,>=2.5 in c:\\users\\lenovo\\appdata\\roaming\\python\\python36\\site-packages (from requests->webdriver_manager) (2.10)\n",
      "Requirement already satisfied: certifi>=2017.4.17 in c:\\users\\lenovo\\appdata\\roaming\\python\\python36\\site-packages (from requests->webdriver_manager) (2020.6.20)\n",
      "Requirement already satisfied: urllib3!=1.25.0,!=1.25.1,<1.26,>=1.21.1 in c:\\users\\lenovo\\appdata\\roaming\\python\\python36\\site-packages (from requests->webdriver_manager) (1.25.9)\n",
      "Requirement already satisfied: chardet<4,>=3.0.2 in c:\\users\\lenovo\\appdata\\roaming\\python\\python36\\site-packages (from requests->webdriver_manager) (3.0.4)\n",
      "Installing collected packages: crayons, configparser, webdriver-manager\n",
      "Successfully installed configparser-5.0.2 crayons-0.4.0 webdriver-manager-3.3.0\n",
      "Note: you may need to restart the kernel to use updated packages.\n"
     ]
    },
    {
     "name": "stderr",
     "output_type": "stream",
     "text": [
      "WARNING: You are using pip version 19.2.3; however, version 21.0.1 is available.\n",
      "You should consider upgrading via the 'C:\\Users\\Lenovo\\anaconda3\\envs\\snakes\\python.exe -m pip install --upgrade pip' command.\n"
     ]
    }
   ],
   "source": [
    "pip install webdriver_manager"
   ]
  },
  {
   "cell_type": "code",
   "execution_count": 4,
   "metadata": {
    "extensions": {
     "jupyter_dashboards": {
      "version": 1,
      "views": {
       "default_view": {
        "hidden": true
       }
      }
     }
    },
    "scrolled": true
   },
   "outputs": [],
   "source": [
    "from selenium import webdriver\n",
    "from webdriver_manager.chrome import ChromeDriverManager\n",
    "import requests\n",
    "from bs4 import BeautifulSoup\n",
    "import pandas as pd\n",
    "from tqdm import tqdm_notebook\n",
    "import time\n",
    "from datetime import datetime, date\n",
    "from selenium.webdriver.common.keys import Keys\n",
    "from selenium.webdriver.support.ui import Select\n",
    "import re\n",
    "from selenium.webdriver.common.by import By\n",
    "from selenium.webdriver import ActionChains\n",
    "import sys\n",
    "import random\n",
    "from openpyxl import load_workbook\n",
    "# some handy functions to use along widgets\n",
    "from IPython.display import display, Markdown, clear_output\n",
    "# widget packages\n",
    "import ipywidgets as widgets\n",
    "import pandas as pd\n",
    "import sys\n",
    "from io import StringIO\n",
    "import numpy as np\n",
    "from selenium.webdriver.support.ui import WebDriverWait\n",
    "from selenium.webdriver.support import expected_conditions as EC\n",
    "# import Alert  \n",
    "from selenium.webdriver.common.alert import Alert \n",
    "from ipywidgets import Button, Layout,FileUpload, IntProgress\n",
    "from selenium.webdriver.chrome.options import Options"
   ]
  },
  {
   "cell_type": "code",
   "execution_count": 5,
   "metadata": {
    "extensions": {
     "jupyter_dashboards": {
      "version": 1,
      "views": {
       "default_view": {
        "hidden": true
       }
      }
     }
    }
   },
   "outputs": [],
   "source": [
    "tab = widgets.Tab()    \n",
    "up = widgets.FileUpload(accept=\".csv\", multiple=True,counter = 0,description='選擇CSV')\n",
    "# a upload box show then click it and upload the test file\n",
    "up._counter = 0\n",
    "#up.observe(show_content,'value')\n",
    "\n",
    "\n",
    "button_upload = widgets.Button(\n",
    "    description='確認上傳',\n",
    "    button_style='warning',\n",
    "    tooltip='Click to Upload',\n",
    "    disabled=False,\n",
    "    icon='check')\n",
    "\n",
    "button_webcrawler = widgets.Button(\n",
    "    description='爬地籍資料下載KML',\n",
    "    button_style='info',\n",
    "    disabled=True,\n",
    "    tooltip='Click to webcrawler',\n",
    "    icon='bug',\n",
    "    layout=Layout(width='20%', height='28px'))\n",
    "\n",
    "out = widgets.Output(layout={'border': '1px solid black'})\n",
    "#\n",
    "progress = IntProgress()\n",
    "# SelectMultiple widget instantiation\n",
    "eraser = widgets.SelectMultiple(\n",
    "    options=['tab','\"'],\n",
    "    value=['tab'],\n",
    "    #rows=10,\n",
    "    description='Eraser: ',\n",
    "    disabled=False\n",
    ")\n",
    "\n",
    "x_axis = widgets.Dropdown(\n",
    "    options=[''],\n",
    "    value='',\n",
    "    description='X-Axis:',\n",
    "    disabled=False)\n",
    "y_axis = widgets.Dropdown(\n",
    "    options=[''],\n",
    "    value='',\n",
    "    description='Y-Axis:',\n",
    "    disabled=False)\n",
    "\n",
    "def alert_is_present(browser):\n",
    "    try:\n",
    "        alert = browser.switch_to.alert\n",
    "        alert.text\n",
    "        return alert\n",
    "    except:\n",
    "        return False\n",
    "\n",
    "def content_parser():\n",
    "    if up.value == {}:\n",
    "        with out:\n",
    "            print('No CSV loaded')    \n",
    "    else:\n",
    "        typ, content = \"\", \"\"\n",
    "        up_value = up.value\n",
    "        for i in up_value.keys():\n",
    "            typ = up_value[i][\"metadata\"][\"type\"]\n",
    "            if typ == (\"application/vnd.ms-excel\") or (\"txt/csv\"):\n",
    "                try:\n",
    "                    content = up_value[i][\"content\"]\n",
    "                    content_str = str(content, 'utf-8')\n",
    "                except:\n",
    "                    content = up_value[i][\"content\"]\n",
    "                    content_str = str(content, 'cp950')\n",
    "            if eraser.value != {}: \n",
    "                for val in eraser.value:\n",
    "                    if val == \"tab\":\n",
    "                        content_str = content_str.replace(\"\\t\",\"\")\n",
    "                    else:\n",
    "                        content_str = content_str.replace(val,\"\")\n",
    "            if content_str != \"\":\n",
    "                str_io = StringIO(content_str) \n",
    "                return str_io\n",
    "            \n",
    "def df_converter():\n",
    "    content = content_parser()\n",
    "    if content is not None:\n",
    "        df = pd.read_csv(\n",
    "             content,  \n",
    "             index_col=False)\n",
    "        \n",
    "        return df\n",
    "    else:\n",
    "        return None\n",
    "\n",
    "def upload():\n",
    "    df = df_converter()\n",
    "    up._counter = 0\n",
    "    if {'town', 'sect','number','city'}.issubset(df.columns): \n",
    "        with out:\n",
    "            out.clear_output()\n",
    "            print('\\n欄位符合，好棒棒!!\\n')\n",
    "            print('\\n -----Your uploaded DF looks like:----- \\n')\n",
    "            df=df.dropna(axis=1,how=\"all\")\n",
    "            df=df.dropna(axis=0,how=\"all\")\n",
    "            #axis =1 代表欄,0代表列\n",
    "            #全部都是Na的列刪掉\n",
    "            button_webcrawler.description = '爬地籍資料下載KML'\n",
    "            button_webcrawler.disabled = False\n",
    "            if df is not None:\n",
    "                print(df)\n",
    "                x_axis.options = df.columns  # Dropdown Widget update\n",
    "                y_axis.options = df.columns  # Dropdown Widget update\n",
    "            else:\n",
    "                print('Configuration is wrong/missing...')\n",
    "                \n",
    "    else:\n",
    "        with out:\n",
    "            out.clear_output()\n",
    "            df=df.dropna(axis=1,how=\"all\")\n",
    "            df=df.dropna(axis=0,how=\"all\")\n",
    "            print('\\n欄位有錯啦，說明都不看清楚\\n')\n",
    "            button_webcrawler.description = '不給妳爬啦'\n",
    "            button_webcrawler.disabled = True\n",
    "            if df is not None:\n",
    "                print(df)\n",
    "                x_axis.options = df.columns  # Dropdown Widget update\n",
    "                y_axis.options = df.columns  # Dropdown Widget update\n",
    "            else:\n",
    "                print('Configuration is wrong/missing...')\n",
    "   \n",
    "    return(df)\n",
    "################################################################以上是介面設定###################################################\n",
    "\n",
    "\n",
    "\n",
    "\n",
    "\n",
    "\n",
    "\n",
    "#随机获取一个agent\n",
    "def get_UserAgent():\n",
    "    return agentPools[random.randint(0,2)]\n",
    "\n",
    "\n",
    "\n",
    "\n",
    "def webcrawler():\n",
    "    df = upload()\n",
    "    df['sect'] = df['sect'].str.strip()\n",
    "    \n",
    "    #创建一个agent池\n",
    "    opts = Options()\n",
    "    agentPools=[\n",
    "        \"Mozilla/5.0 (Windows NT 10.0; Win64; x64) AppleWebKit/537.36 (KHTML, like Gecko) Chrome/78.0.3904.108 Safari/537.36\",\n",
    "        \"Mozilla/5.0 (Macintosh; Intel Mac OS X 10_7_2) AppleWebKit/537.36 (KHTML, like Gecko) Chrome/27.0.1453.93 Safari/537.36\",\n",
    "        \"Mozilla/5.0 (Windows NT 6.2; WOW64; rv:21.0) Gecko/20100101 Firefox/21.0\"\n",
    "    ]\n",
    "    headers={'User-Agent':get_UserAgent}\n",
    "    # 禁用瀏覽器彈窗避免預設路徑載入失敗\n",
    "    prefs = {\n",
    "    'profile.default_content_setting_values':\n",
    "        {\n",
    "            'notifications': 2\n",
    "        }\n",
    "    }\n",
    "    \n",
    "    #找到Google擴充套件的檔案位置(注意路徑需使用雙斜線 \"\\\\\")\n",
    "    \n",
    "    ######################################################改這邊################################################################\n",
    "    opts.add_extension(r'C:\\Users\\Lenovo\\AppData\\Local\\Google\\Chrome\\User Data\\Default\\Extensions\\gjknjjomckknofjidppipffbpoekiipm\\6.4.7_0.crx')\n",
    "    \n",
    "   ###########################################################################################################################################################################\n",
    "    #將擴充套件放入至Webdriver的開啟網頁內容\n",
    "    opts.add_experimental_option('prefs', prefs)\n",
    "    #隱藏『Chrome正在受到自動軟體的控制』這項資訊\n",
    "    #options.add_argument(\"disable-infobars\")\n",
    "    #opts.add_argument(\"--incognito\")  # 使用無痕模式。\n",
    "    # 啟動無頭模式\n",
    "    #opts.add_argument('--headless')\n",
    "    opts.add_argument(\"user-agent={}\".format(get_UserAgent))         # 使用偽造的 user-agent\n",
    "    opts.add_argument(\"--start-maximized\")\n",
    "    \n",
    "    browser = webdriver.Chrome(ChromeDriverManager().install(),chrome_options=opts)\n",
    "    #browser.maximize_window()\n",
    "    info = pd.DataFrame(columns = ['city','town','sect','number','lalo'])\n",
    "    err_info = pd.DataFrame(columns = ['city','town','sect','number','lalo'])\n",
    "    wait = WebDriverWait(browser, 5)\n",
    "    visible = EC.visibility_of_element_located\n",
    "    clickable = EC.element_to_be_clickable\n",
    "    \n",
    "    \n",
    "    # Initialize a progess bar\n",
    "    progress.max = len(df)\n",
    "    progress.description = '我是進度條'\n",
    "    time.sleep(0.25)\n",
    "    #進入VPN介面\n",
    "    browser.get(\"chrome-extension://gjknjjomckknofjidppipffbpoekiipm/panel/index.html\")\n",
    "    wait.until(clickable((By.XPATH, '//*[@id=\"screenMain\"]/div[3]/div[1]')))\n",
    "    browser.find_element_by_xpath('//*[@id=\"screenMain\"]/div[3]/div[1]').click()\n",
    "\n",
    "    \n",
    "    for i in tqdm_notebook(range(0,len(df))):\n",
    "\n",
    "        browser.get(\"https://easymap.land.moi.gov.tw/R02/Index\")\n",
    "        #browser.maximize_window()\n",
    "        time.sleep(2)    \n",
    "        #browser.find_element_by_id('').click()  # 实例化Select\n",
    "        try:\n",
    "            browser.find_element_by_id('notShowSysinfo_id').click()\n",
    "        except:\n",
    "            pass\n",
    "        try:\n",
    "            wait.until(clickable((By.ID, \"select_city_id\")))\n",
    "            Select(browser.find_element_by_id('select_city_id')).select_by_visible_text(df['city'][i])\n",
    "            wait.until(clickable((By.ID, \"select_town_id\")))\n",
    "            time.sleep(5)\n",
    "            browser.find_element_by_id('select_town_id').click()\n",
    "            #點開下拉式選單\n",
    "            Select(browser.find_element_by_id('select_town_id')).select_by_visible_text(df['town'][i])\n",
    "            #點擊鄉鎮的名字\n",
    "            time.sleep(2)\n",
    "            wait.until(clickable((By.ID, 'select_sect_id')))        \n",
    "            browser.find_element_by_id('select_sect_id').click()\n",
    "            #點開區段下拉式選單\n",
    "            s1 = Select(browser.find_element_by_id('select_sect_id'))\n",
    "            #設置選取id範圍\n",
    "            for each_option in s1.options:\n",
    "                if df['sect'][i] in each_option.text:\n",
    "                    s1.select_by_visible_text(each_option.text)\n",
    "            #每一個在id範圍中的值去跑，如果有跟區段名字有部分吻合的就用那個text去點擊\n",
    "            wait.until(clickable((By.ID, 'landno'))) \n",
    "            time.sleep(4)\n",
    "            browser.find_element_by_id('landno').click()\n",
    "            browser.find_element_by_id('landno').send_keys(str(df['number'][i]))\n",
    "            wait.until(clickable((By.ID, 'mapTile_id')))\n",
    "            browser.find_element_by_id('mapTile_id').click()\n",
    "            #點開地圖型別下拉式選單\n",
    "            Select(browser.find_element_by_id('mapTile_id')).select_by_visible_text(\"正射影像(航照圖)\")\n",
    "            #選擇地圖型別\n",
    "\n",
    "            wait.until(clickable((By.ID, 'land_button')))        \n",
    "            browser.find_element_by_id('land_button').click()\n",
    "            time.sleep(4)  \n",
    "            try:\n",
    "                source = browser.find_element_by_id('OpenLayers.Layer.Vector_42_root')\n",
    "                #is_displayed代表的是有沒有出現在螢幕上，會傳回布林值true 跟 false\n",
    "                show = source.is_displayed()\n",
    "                time.sleep(8)\n",
    "                if show == True:\n",
    "                    actionChains = ActionChains(browser)\n",
    "                    actionChains.context_click(source).perform()\n",
    "                    browser.find_element_by_xpath('/html/body/ul/li[2]').click()\n",
    "                    browser.find_element_by_id('OpenLayers.Layer.Vector_42_root').click()\n",
    "                #不斷點擊縮小鍵，直到出現紅紅的圖釘\n",
    "                while show !=True:\n",
    "                    browser.find_element_by_id('OpenLayers.Control.PanZoomBar_43_zoomout_innerImage').click()\n",
    "                    source = browser.find_element_by_id('OpenLayers.Layer.Vector_42_root')\n",
    "                    show = source.is_displayed()\n",
    "                    actionChains = ActionChains(browser)\n",
    "                    actionChains.context_click(source).perform()\n",
    "                    browser.find_element_by_xpath('/html/body/ul/li[2]').click()\n",
    "                    wait.until(clickable((By.ID, 'OpenLayers.Layer.Vector_42_root')))  \n",
    "                    browser.find_element_by_id('OpenLayers.Layer.Vector_42_root').click()\n",
    "\n",
    "\n",
    "                soup7 = BeautifulSoup(browser.page_source, \"html.parser\") \n",
    "                blocks = soup7.find(\"span\", {\"id\": \"coordDisplayLonLat\"})\n",
    "                pngname = str(df['town'][i]) + str(df['sect'][i]) + str(df['number'][i])\n",
    "                filename = pngname + \".png\"\n",
    "                time.sleep(4)\n",
    "                browser.save_screenshot(filename)\n",
    "                com_info2 = pd.DataFrame({\"city\":[df['city'][i]], \n",
    "                                \"town\":[df['town'][i]],\n",
    "                               \"sect\":[df['sect'][i]],\n",
    "                               \"number\":df['number'][i],          \n",
    "                               'lalo':[blocks.text]}) \n",
    "                info = pd.concat([info, com_info2], axis = 0)\n",
    "                #用一開始建立的info來跟後面的com_info2使用 concat 合併 axis=0 為直向合併\n",
    "                info = info.reset_index(drop = True)\n",
    "                info[['latitude','longitude']] = info.lalo.str.split(\",\",expand=True,)\n",
    "                info['latitude'] = pd.to_numeric(info['latitude'])\n",
    "                info['longitude'] = pd.to_numeric(info['longitude'])\n",
    "                info.to_excel(\"地籍資料_經緯度.xlsx\")\n",
    "\n",
    "            except:\n",
    "                err_info2 = pd.DataFrame({\"city\":[df['city'][i]], \n",
    "                        \"town\":[df['town'][i]],\n",
    "                       \"sect\":[df['sect'][i]],\n",
    "                       \"number\":df['number'][i],          \n",
    "                       'lalo':\"欄位有誤\"}) \n",
    "                err_info = pd.concat([err_info, err_info2], axis = 0)\n",
    "                #用一開始建立的info來跟後面的com_info2使用 concat 合併 axis=0 為直向合併\n",
    "                err_info = err_info.reset_index(drop = True)\n",
    "                err_info.to_excel(\"地籍資料_錯誤.xlsx\")\n",
    "        except:\n",
    "            err_info2 = pd.DataFrame({\"city\":[df['city'][i]], \n",
    "                                    \"town\":[df['town'][i]],\n",
    "                                   \"sect\":[df['sect'][i]],\n",
    "                                   \"number\":df['number'][i],          \n",
    "                                   'lalo':\"欄位有誤\"}) \n",
    "            err_info = pd.concat([err_info, err_info2], axis = 0)\n",
    "            #用一開始建立的info來跟後面的com_info2使用 concat 合併 axis=0 為直向合併\n",
    "            err_info = err_info.reset_index(drop = True)\n",
    "            err_info.to_excel(\"地籍資料_錯誤.xlsx\")\n",
    "            pass\n",
    "\n",
    "            \n",
    "        # 隨機暫停 1~5 秒\n",
    "        time.sleep(random.uniform(1, 5))\n",
    "        \n",
    "        #progress bar\n",
    "        progress.value += 1\n",
    "        #清除cookie\n",
    "        browser.delete_all_cookies()\n",
    "        if progress.value in range(0,len(df),20):\n",
    "            #啟動擴充套件連上VPN \n",
    "            #連結套件的html位置 chrome-extension://gjknjjomckknofjidppipffbpoekiipm/panel/index.html\n",
    "            browser.get(\"chrome-extension://gjknjjomckknofjidppipffbpoekiipm/panel/index.html\")\n",
    "            browser.find_element_by_xpath('//*[@id=\"screenMain\"]/div[3]/div[1]').click()\n",
    "            time.sleep(2)\n",
    "            browser.find_element_by_xpath('//*[@id=\"screenMain\"]/div[3]/div[1]').click()\n",
    "            time.sleep(3)\n",
    "            \n",
    "       \n",
    "    progress.description = '(Done)'\n",
    "        \n",
    "        \n",
    "        \n",
    "\n",
    "    #Open the file to be written.\n",
    "    #######\n",
    "    f = open('天下地籍.kml','w',encoding = 'UTF-8')\n",
    "\n",
    "    #Writing the kml file.\n",
    "    f.write(\"<?xml version='1.0' encoding='UTF-8'?>\\n\")\n",
    "    f.write(\"<kml xmlns='http://earth.google.com/kml/2.1'>\\n\")\n",
    "    f.write(\"<Document>\\n\")\n",
    "    for index, row in info.iterrows():\n",
    "        f.write(\"   <Placemark>\\n\")\n",
    "        f.write(\"       <name>\" + str(row['city'])+str(row['town'])+str(row['sect'])+str(row['number']) + \"</name>\\n\")\n",
    "        f.write(\"       <description>\" + str(row['city'])+str(row['town'])+str(row['sect'])+str(row['number'])+ \"</description>\\n\")\n",
    "        f.write(\"       <Point>\\n\")\n",
    "        f.write(\"           <coordinates>\" + str(row['longitude']) + \",\" + str(row['latitude']) + \",\"  + \"</coordinates>\\n\")\n",
    "        #因為,是文字，所以不能直接用數字加上去，要轉換成string\n",
    "        f.write(\"       </Point>\\n\")\n",
    "        f.write(\"   </Placemark>\\n\")\n",
    "    f.write(\"</Document>\\n\")\n",
    "    f.write(\"</kml>\\n\")\n",
    "    f.close()\n",
    "    \n",
    "\n",
    "\n",
    "\n",
    "        \n",
    "            \n",
    "def preview_clicked(b):\n",
    "    preview()\n",
    "def webcrawler_clicked(b):\n",
    "    webcrawler()\n",
    "def upload_clicked(b):\n",
    "    upload()\n",
    "\n"
   ]
  },
  {
   "cell_type": "code",
   "execution_count": 6,
   "metadata": {
    "extensions": {
     "jupyter_dashboards": {
      "version": 1,
      "views": {
       "default_view": {
        "hidden": true
       }
      }
     }
    }
   },
   "outputs": [],
   "source": [
    "# Assigning functionality to buttons\n",
    "button_upload.on_click(upload_clicked)\n",
    "button_webcrawler.on_click(webcrawler_clicked)\n",
    "\n",
    "accordion = widgets.Accordion(children=[\n",
    "    up])\n",
    "\n",
    "accordion_box = widgets.VBox([\n",
    "    accordion,\n",
    "    progress, \n",
    "    widgets.HBox([button_upload, button_webcrawler]),\n",
    "    out\n",
    "])\n",
    "tab.set_title(0, \"Upload\")\n"
   ]
  },
  {
   "cell_type": "code",
   "execution_count": 7,
   "metadata": {
    "extensions": {
     "jupyter_dashboards": {
      "version": 1,
      "views": {
       "default_view": {
        "col": 0,
        "height": 8,
        "row": 1,
        "width": 12
       }
      }
     }
    },
    "scrolled": false
   },
   "outputs": [
    {
     "name": "stdout",
     "output_type": "stream",
     "text": [
      "維修需求，可洽許仁耀 a0937736966@gmail.com\n"
     ]
    },
    {
     "data": {
      "application/vnd.jupyter.widget-view+json": {
       "model_id": "2c27c83803684e87ae2cf017b47f7b10",
       "version_major": 2,
       "version_minor": 0
      },
      "text/plain": [
       "VBox(children=(Accordion(children=(FileUpload(value={}, accept='.csv', description='選擇CSV', multiple=True),)),…"
      ]
     },
     "metadata": {},
     "output_type": "display_data"
    }
   ],
   "source": [
    "print(\"維修需求，可洽許仁耀 a0937736966@gmail.com\")\n",
    "accordion_box\n"
   ]
  },
  {
   "cell_type": "code",
   "execution_count": null,
   "metadata": {},
   "outputs": [],
   "source": []
  }
 ],
 "metadata": {
  "extensions": {
   "jupyter_dashboards": {
    "activeView": "default_view",
    "version": 1,
    "views": {
     "default_view": {
      "cellMargin": 10,
      "defaultCellHeight": 40,
      "maxColumns": 12,
      "name": "active_view",
      "type": "grid"
     }
    }
   }
  },
  "hide_input": false,
  "kernelspec": {
   "display_name": "Python 3",
   "language": "python",
   "name": "python3"
  },
  "language_info": {
   "codemirror_mode": {
    "name": "ipython",
    "version": 3
   },
   "file_extension": ".py",
   "mimetype": "text/x-python",
   "name": "python",
   "nbconvert_exporter": "python",
   "pygments_lexer": "ipython3",
   "version": "3.6.12"
  },
  "varInspector": {
   "cols": {
    "lenName": 16,
    "lenType": 16,
    "lenVar": 40
   },
   "kernels_config": {
    "python": {
     "delete_cmd_postfix": "",
     "delete_cmd_prefix": "del ",
     "library": "var_list.py",
     "varRefreshCmd": "print(var_dic_list())"
    },
    "r": {
     "delete_cmd_postfix": ") ",
     "delete_cmd_prefix": "rm(",
     "library": "var_list.r",
     "varRefreshCmd": "cat(var_dic_list()) "
    }
   },
   "oldHeight": 561.403222,
   "position": {
    "height": "583.181px",
    "left": "1518.67px",
    "right": "20px",
    "top": "511px",
    "width": "350px"
   },
   "types_to_exclude": [
    "module",
    "function",
    "builtin_function_or_method",
    "instance",
    "_Feature"
   ],
   "varInspector_section_display": "block",
   "window_display": false
  }
 },
 "nbformat": 4,
 "nbformat_minor": 2
}
