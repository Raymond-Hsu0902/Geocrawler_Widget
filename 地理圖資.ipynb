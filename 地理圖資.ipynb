{
 "cells": [
  {
   "cell_type": "code",
   "execution_count": 1,
   "metadata": {},
   "outputs": [],
   "source": [
    "from selenium import webdriver\n",
    "import requests\n",
    "from bs4 import BeautifulSoup\n",
    "import pandas as pd\n",
    "from tqdm import tqdm_notebook\n",
    "import time\n",
    "from datetime import datetime, date\n",
    "from selenium.webdriver.common.keys import Keys\n",
    "from selenium.webdriver.support.ui import Select\n",
    "import re\n",
    "from selenium.webdriver.common.by import By\n",
    "from selenium.webdriver import ActionChains\n",
    "import sys\n",
    "# import gmplot package \n",
    "import gmplot \n",
    "import random\n",
    "from openpyxl import load_workbook\n"
   ]
  },
  {
   "cell_type": "code",
   "execution_count": 2,
   "metadata": {},
   "outputs": [
    {
     "data": {
      "text/html": [
       "<div>\n",
       "<style scoped>\n",
       "    .dataframe tbody tr th:only-of-type {\n",
       "        vertical-align: middle;\n",
       "    }\n",
       "\n",
       "    .dataframe tbody tr th {\n",
       "        vertical-align: top;\n",
       "    }\n",
       "\n",
       "    .dataframe thead th {\n",
       "        text-align: right;\n",
       "    }\n",
       "</style>\n",
       "<table border=\"1\" class=\"dataframe\">\n",
       "  <thead>\n",
       "    <tr style=\"text-align: right;\">\n",
       "      <th></th>\n",
       "      <th>city</th>\n",
       "      <th>town</th>\n",
       "      <th>sect</th>\n",
       "      <th>number</th>\n",
       "    </tr>\n",
       "  </thead>\n",
       "  <tbody>\n",
       "    <tr>\n",
       "      <th>0</th>\n",
       "      <td>苗栗縣</td>\n",
       "      <td>通霄鎮</td>\n",
       "      <td>大坪頂段</td>\n",
       "      <td>140-18</td>\n",
       "    </tr>\n",
       "    <tr>\n",
       "      <th>1</th>\n",
       "      <td>苗栗縣</td>\n",
       "      <td>通霄鎮</td>\n",
       "      <td>大坪頂段</td>\n",
       "      <td>140-30</td>\n",
       "    </tr>\n",
       "    <tr>\n",
       "      <th>2</th>\n",
       "      <td>苗栗縣</td>\n",
       "      <td>通霄鎮</td>\n",
       "      <td>大坪頂段</td>\n",
       "      <td>323</td>\n",
       "    </tr>\n",
       "    <tr>\n",
       "      <th>3</th>\n",
       "      <td>苗栗縣</td>\n",
       "      <td>苑裡鎮</td>\n",
       "      <td>南勢林坑段</td>\n",
       "      <td>1061</td>\n",
       "    </tr>\n",
       "    <tr>\n",
       "      <th>4</th>\n",
       "      <td>苗栗縣</td>\n",
       "      <td>苑裡鎮</td>\n",
       "      <td>南勢林坑段</td>\n",
       "      <td>1068</td>\n",
       "    </tr>\n",
       "    <tr>\n",
       "      <th>5</th>\n",
       "      <td>苗栗縣</td>\n",
       "      <td>苑裡鎮</td>\n",
       "      <td>南勢林坑段</td>\n",
       "      <td>494</td>\n",
       "    </tr>\n",
       "    <tr>\n",
       "      <th>6</th>\n",
       "      <td>苗栗縣</td>\n",
       "      <td>通霄鎮</td>\n",
       "      <td>北勢窩段</td>\n",
       "      <td>538</td>\n",
       "    </tr>\n",
       "    <tr>\n",
       "      <th>7</th>\n",
       "      <td>苗栗縣</td>\n",
       "      <td>通霄鎮</td>\n",
       "      <td>北勢窩段</td>\n",
       "      <td>539</td>\n",
       "    </tr>\n",
       "    <tr>\n",
       "      <th>8</th>\n",
       "      <td>苗栗縣</td>\n",
       "      <td>通霄鎮</td>\n",
       "      <td>北勢窩段</td>\n",
       "      <td>539-1</td>\n",
       "    </tr>\n",
       "    <tr>\n",
       "      <th>9</th>\n",
       "      <td>苗栗縣</td>\n",
       "      <td>通霄鎮</td>\n",
       "      <td>北勢窩段</td>\n",
       "      <td>540</td>\n",
       "    </tr>\n",
       "    <tr>\n",
       "      <th>10</th>\n",
       "      <td>苗栗縣</td>\n",
       "      <td>通霄鎮</td>\n",
       "      <td>北勢窩段</td>\n",
       "      <td>547</td>\n",
       "    </tr>\n",
       "  </tbody>\n",
       "</table>\n",
       "</div>"
      ],
      "text/plain": [
       "   city town   sect  number\n",
       "0   苗栗縣  通霄鎮   大坪頂段  140-18\n",
       "1   苗栗縣  通霄鎮   大坪頂段  140-30\n",
       "2   苗栗縣  通霄鎮   大坪頂段     323\n",
       "3   苗栗縣  苑裡鎮  南勢林坑段    1061\n",
       "4   苗栗縣  苑裡鎮  南勢林坑段    1068\n",
       "5   苗栗縣  苑裡鎮  南勢林坑段     494\n",
       "6   苗栗縣  通霄鎮   北勢窩段     538\n",
       "7   苗栗縣  通霄鎮   北勢窩段     539\n",
       "8   苗栗縣  通霄鎮   北勢窩段   539-1\n",
       "9   苗栗縣  通霄鎮   北勢窩段     540\n",
       "10  苗栗縣  通霄鎮   北勢窩段     547"
      ]
     },
     "execution_count": 2,
     "metadata": {},
     "output_type": "execute_result"
    }
   ],
   "source": [
    "land1 = pd.read_excel(r\"C:\\Users\\Lenovo\\數據分析\\天下專案\\land.xlsx\")\n",
    "area_df_clean = pd.read_excel(r\"C:\\Users\\Lenovo\\數據分析\\天下專案\\area_df_clean.xlsx\")\n",
    "land = pd.merge(land1, area_df_clean, left_on=\"sect\", right_on=\"區名\").drop('區名',axis=1)\n",
    "land1"
   ]
  },
  {
   "cell_type": "code",
   "execution_count": 93,
   "metadata": {},
   "outputs": [
    {
     "name": "stderr",
     "output_type": "stream",
     "text": [
      "C:\\Users\\Lenovo\\anaconda3\\lib\\site-packages\\ipykernel_launcher.py:5: TqdmDeprecationWarning: This function will be removed in tqdm==5.0.0\n",
      "Please use `tqdm.notebook.tqdm` instead of `tqdm.tqdm_notebook`\n",
      "  \"\"\"\n"
     ]
    },
    {
     "data": {
      "application/vnd.jupyter.widget-view+json": {
       "model_id": "0972331441be433fba934fe256dbe91f",
       "version_major": 2,
       "version_minor": 0
      },
      "text/plain": [
       "HBox(children=(FloatProgress(value=0.0, max=2.0), HTML(value='')))"
      ]
     },
     "metadata": {},
     "output_type": "display_data"
    },
    {
     "name": "stdout",
     "output_type": "stream",
     "text": [
      "\n"
     ]
    }
   ],
   "source": [
    "browser = webdriver.Chrome(executable_path = \"C:\\Program Files (x86)\\Google\\Chrome\\Application\\chromedriver.exe\")\n",
    "\n",
    "info = pd.DataFrame(columns = ['city','town','sect','number','lalo'])\n",
    "\n",
    "for i in tqdm_notebook(range(1,3)):\n",
    "    browser.get(\"https://easymap.land.moi.gov.tw/R02/Index\")\n",
    "    time.sleep(2)\n",
    "    #browser.find_element_by_id('').click()  # 实例化Select\n",
    "    try:\n",
    "        browser.find_element_by_id('notShowSysinfo_id').click()\n",
    "    except:\n",
    "        pass\n",
    "    Select(browser.find_element_by_id('select_city_id')).select_by_visible_text(land['city'][i])\n",
    "    time.sleep(4)\n",
    "    \n",
    "    browser.find_element_by_id('select_town_id').click()\n",
    "    #點開下拉式選單\n",
    "    Select(browser.find_element_by_id('select_town_id')).select_by_visible_text(land['town'][i])\n",
    "    #點擊鄉鎮的名字\n",
    "    time.sleep(4)\n",
    "    \n",
    "    browser.find_element_by_id('select_sect_id').click()\n",
    "    #點開區段下拉式選單\n",
    "    s1 = Select(browser.find_element_by_id('select_sect_id'))\n",
    "    #設置選取id範圍\n",
    "    for each_option in s1.options:\n",
    "        if land['sect'][i] in each_option.text:\n",
    "            s1.select_by_visible_text(each_option.text)\n",
    "    #每一個在id範圍中的值去跑，如果有跟區段名字有部分吻合的就用那個text去點擊\n",
    "    time.sleep(5)\n",
    "    \n",
    "    browser.find_element_by_id('landno').send_keys(land['number'][i])\n",
    "    browser.find_element_by_id('land_button').click()\n",
    "    actionChains = ActionChains(browser)\n",
    "    time.sleep(2)\n",
    "    source = browser.find_element_by_id('OpenLayers.Layer.Vector_28_vroot')\n",
    "    time.sleep(10)\n",
    "    actionChains.context_click(source).perform()\n",
    "    browser.find_element_by_xpath('/html/body/ul/li[2]').click()\n",
    "    browser.find_element_by_id('OpenLayers.Layer.Vector_28_vroot').click()\n",
    "    soup7 = BeautifulSoup(browser.page_source, \"html.parser\") \n",
    "    blocks = soup7.find(\"span\", {\"id\": \"coordDisplayLonLat\"})\n",
    "    pngname = str(land['town'][i]) + str(land['sect'][i]) + str(land['number'][i])\n",
    "    filename = \"C:/Users/Lenovo/數據分析/天下專案/\" + pngname + \".png\"\n",
    "    browser.save_screenshot(filename)\n",
    "    com_info2 = pd.DataFrame({\"city\":[land['city'][i]], \n",
    "                    \"town\":[land['town'][i]],\n",
    "                   \"sect\":[land['sect'][i]],\n",
    "                   \"number\":land['number'][i],          \n",
    "                   'lalo':[blocks.text]}) \n",
    "    info = pd.concat([info, com_info2], axis = 0)\n",
    "    #用一開始建立的info來跟後面的com_info2使用 concat 合併 axis=0 為直向合併\n",
    "    info = info.reset_index(drop = True)"
   ]
  },
  {
   "cell_type": "code",
   "execution_count": 123,
   "metadata": {},
   "outputs": [
    {
     "data": {
      "text/html": [
       "<div>\n",
       "<style scoped>\n",
       "    .dataframe tbody tr th:only-of-type {\n",
       "        vertical-align: middle;\n",
       "    }\n",
       "\n",
       "    .dataframe tbody tr th {\n",
       "        vertical-align: top;\n",
       "    }\n",
       "\n",
       "    .dataframe thead th {\n",
       "        text-align: right;\n",
       "    }\n",
       "</style>\n",
       "<table border=\"1\" class=\"dataframe\">\n",
       "  <thead>\n",
       "    <tr style=\"text-align: right;\">\n",
       "      <th></th>\n",
       "      <th>city</th>\n",
       "      <th>town</th>\n",
       "      <th>sect</th>\n",
       "      <th>number</th>\n",
       "      <th>lalo</th>\n",
       "      <th>latitude</th>\n",
       "      <th>longitude</th>\n",
       "    </tr>\n",
       "  </thead>\n",
       "  <tbody>\n",
       "    <tr>\n",
       "      <th>0</th>\n",
       "      <td>苗栗縣</td>\n",
       "      <td>通霄鎮</td>\n",
       "      <td>大坪頂段</td>\n",
       "      <td>140-30</td>\n",
       "      <td>24.44724,120.70499</td>\n",
       "      <td>24.44724</td>\n",
       "      <td>120.70499</td>\n",
       "    </tr>\n",
       "    <tr>\n",
       "      <th>1</th>\n",
       "      <td>苗栗縣</td>\n",
       "      <td>通霄鎮</td>\n",
       "      <td>大坪頂段</td>\n",
       "      <td>323</td>\n",
       "      <td>24.44328,120.70565</td>\n",
       "      <td>24.44328</td>\n",
       "      <td>120.70565</td>\n",
       "    </tr>\n",
       "  </tbody>\n",
       "</table>\n",
       "</div>"
      ],
      "text/plain": [
       "  city town  sect  number                lalo  latitude  longitude\n",
       "0  苗栗縣  通霄鎮  大坪頂段  140-30  24.44724,120.70499  24.44724  120.70499\n",
       "1  苗栗縣  通霄鎮  大坪頂段     323  24.44328,120.70565  24.44328  120.70565"
      ]
     },
     "execution_count": 123,
     "metadata": {},
     "output_type": "execute_result"
    }
   ],
   "source": [
    "info[['latitude','longitude']] = info.lalo.str.split(\",\",expand=True,)\n",
    "info['latitude'] = pd.to_numeric(info['latitude'])\n",
    "info['longitude'] = pd.to_numeric(info['longitude'])\n",
    "info"
   ]
  },
  {
   "cell_type": "code",
   "execution_count": 121,
   "metadata": {},
   "outputs": [
    {
     "name": "stdout",
     "output_type": "stream",
     "text": [
      "苗栗縣 24.44724,120.70499\n",
      "苗栗縣 24.44328,120.70565\n"
     ]
    }
   ],
   "source": [
    "for index, row in info.iterrows():\n",
    "    print(row['city'], row['lalo'])"
   ]
  },
  {
   "cell_type": "code",
   "execution_count": 127,
   "metadata": {},
   "outputs": [
    {
     "data": {
      "text/plain": [
       "pandas.core.series.Series"
      ]
     },
     "execution_count": 127,
     "metadata": {},
     "output_type": "execute_result"
    }
   ],
   "source": [
    "type(info['longitude'])"
   ]
  },
  {
   "cell_type": "code",
   "execution_count": 146,
   "metadata": {
    "scrolled": true
   },
   "outputs": [],
   "source": [
    "#Open the file to be written.\n",
    "f = open('測試.kml','w',encoding = 'UTF-8')\n",
    "\n",
    "#Writing the kml file.\n",
    "f.write(\"<?xml version='1.0' encoding='UTF-8'?>\\n\")\n",
    "f.write(\"<kml xmlns='http://earth.google.com/kml/2.1'>\\n\")\n",
    "f.write(\"<Document>\\n\")\n",
    "for index, row in info.iterrows():\n",
    "    f.write(\"   <Placemark>\\n\")\n",
    "    f.write(\"       <name>\" + str(row['city'])+str(row['town'])+str(row['sect'])+str(row['number']) + \"</name>\\n\")\n",
    "    f.write(\"       <description>\" + str(row['city'])+str(row['town'])+str(row['sect'])+str(row['number'])+ \"</description>\\n\")\n",
    "    f.write(\"       <Point>\\n\")\n",
    "    f.write(\"           <coordinates>\" + str(row['longitude']) + \",\" + str(row['latitude']) + \",\"  + \"</coordinates>\\n\")\n",
    "    #因為,是文字，所以不能直接用數字加上去，要轉換成string\n",
    "    f.write(\"       </Point>\\n\")\n",
    "    f.write(\"   </Placemark>\\n\")\n",
    "f.write(\"</Document>\\n\")\n",
    "f.write(\"</kml>\\n\")\n",
    "f.close()"
   ]
  },
  {
   "cell_type": "code",
   "execution_count": 52,
   "metadata": {},
   "outputs": [
    {
     "data": {
      "application/vnd.jupyter.widget-view+json": {
       "model_id": "c8a677e0d47940d5a5070b28ee8f8868",
       "version_major": 2,
       "version_minor": 0
      },
      "text/plain": [
       "HBox(children=(FloatProgress(value=0.0, max=2.0), HTML(value='')))"
      ]
     },
     "metadata": {},
     "output_type": "display_data"
    },
    {
     "data": {
      "application/vnd.jupyter.widget-view+json": {
       "model_id": "ede20560265f417f9964b4520a425a68",
       "version_major": 2,
       "version_minor": 0
      },
      "text/plain": [
       "HBox(children=(FloatProgress(value=0.0, max=2.0), HTML(value='')))"
      ]
     },
     "metadata": {},
     "output_type": "display_data"
    },
    {
     "name": "stdout",
     "output_type": "stream",
     "text": [
      "\n"
     ]
    },
    {
     "data": {
      "application/vnd.jupyter.widget-view+json": {
       "model_id": "c4a6dca1aea34d2cb4938c2f9b6561d2",
       "version_major": 2,
       "version_minor": 0
      },
      "text/plain": [
       "HBox(children=(FloatProgress(value=0.0, max=2.0), HTML(value='')))"
      ]
     },
     "metadata": {},
     "output_type": "display_data"
    },
    {
     "name": "stdout",
     "output_type": "stream",
     "text": [
      "\n",
      "\n"
     ]
    }
   ],
   "source": [
    "#爬取區域資料\n",
    "browser = webdriver.Chrome(executable_path = \"C:\\Program Files (x86)\\Google\\Chrome\\Application\\chromedriver.exe\")\n",
    "\n",
    "area_df = pd.DataFrame(columns = ['城市','區域','區號名'])\n",
    "\n",
    "for i in tqdm(range(1,3)):\n",
    "    for y in tqdm(range(1,3)):\n",
    "        browser.get(\"https://easymap.land.moi.gov.tw/R02/Index\")\n",
    "        time.sleep(2)\n",
    "        try:\n",
    "            browser.find_element_by_id('notShowSysinfo_id').click()\n",
    "        except:\n",
    "            pass\n",
    "        try:\n",
    "            s1 = Select(browser.find_element_by_id('select_city_id'))\n",
    "            s1.select_by_index(i)\n",
    "            browser.find_element_by_id('select_town_id').click()\n",
    "            s2 = Select(browser.find_element_by_id('select_town_id'))\n",
    "            s2.select_by_index(y)\n",
    "            time.sleep(4)\n",
    "            soup7 = BeautifulSoup(browser.page_source, \"html.parser\")\n",
    "            city = s1.first_selected_option.text\n",
    "            town = s2.first_selected_option.text\n",
    "            blocks = soup7.find(\"select\", {\"id\": \"select_sect_id\"})\n",
    "            area_info = blocks.text.split(\"(\")\n",
    "            #根據(符號來分割成list\n",
    "            area = pd.DataFrame (area_info,columns=['區號名'])\n",
    "            area = area.drop(area.index[0])\n",
    "            #轉換成dataframe\n",
    "            area_df = pd.concat([area_df,area], axis = 0)\n",
    "            #用一開始建立的info來跟後面的com_info2使用 concat 合併 axis=0 為直向合併\n",
    "            area_df  = area_df.reset_index(drop = True)\n",
    "        except:\n",
    "            pass\n",
    "         # 隨機暫停 1~5 秒\n",
    "        time.sleep(random.uniform(1, 5))\n",
    "        "
   ]
  },
  {
   "cell_type": "code",
   "execution_count": 70,
   "metadata": {},
   "outputs": [],
   "source": [
    "#area_df['區號名'] = '('+ area_df['區號名'].astype(str)\n",
    "#area_df['區號名'] = area_df['區號名'].str.replace(\"(\",\"\")\n",
    "#area_df['區號名'] = '('+ area_df['區號名'].astype(str)\n",
    "area_df_clean = pd.DataFrame(area_df['區號名'].str.split(')',1).tolist(),\n",
    "                                 columns = ['區號','區名'])\n",
    "#area_df_clean['區號'] =  area_df_clean['區號'].astype(str)+')'\n",
    "#area_df_clean.to_excel(\"area_df_clean.xlsx\")"
   ]
  },
  {
   "cell_type": "code",
   "execution_count": 30,
   "metadata": {},
   "outputs": [],
   "source": [
    "inputfile = info[['number','latitude','longitude']]"
   ]
  },
  {
   "cell_type": "code",
   "execution_count": 85,
   "metadata": {},
   "outputs": [
    {
     "ename": "TypeError",
     "evalue": "cannot convert the series to <class 'float'>",
     "output_type": "error",
     "traceback": [
      "\u001b[1;31m---------------------------------------------------------------------------\u001b[0m",
      "\u001b[1;31mTypeError\u001b[0m                                 Traceback (most recent call last)",
      "\u001b[1;32m<ipython-input-85-271141e62808>\u001b[0m in \u001b[0;36m<module>\u001b[1;34m\u001b[0m\n\u001b[0;32m      1\u001b[0m \u001b[1;31m#把dataframe裡面的某欄變成list\u001b[0m\u001b[1;33m\u001b[0m\u001b[1;33m\u001b[0m\u001b[1;33m\u001b[0m\u001b[0m\n\u001b[1;32m----> 2\u001b[1;33m \u001b[0mlatitude_list\u001b[0m \u001b[1;33m=\u001b[0m \u001b[0mfloat\u001b[0m\u001b[1;33m(\u001b[0m\u001b[0minfo\u001b[0m\u001b[1;33m[\u001b[0m\u001b[1;34m'latitude'\u001b[0m\u001b[1;33m]\u001b[0m\u001b[1;33m)\u001b[0m\u001b[1;33m.\u001b[0m\u001b[0mtolist\u001b[0m\u001b[1;33m(\u001b[0m\u001b[1;33m)\u001b[0m\u001b[1;33m\u001b[0m\u001b[1;33m\u001b[0m\u001b[0m\n\u001b[0m\u001b[0;32m      3\u001b[0m \u001b[0mlongitude_list\u001b[0m \u001b[1;33m=\u001b[0m \u001b[0mfloat\u001b[0m\u001b[1;33m(\u001b[0m\u001b[0minfo\u001b[0m\u001b[1;33m[\u001b[0m\u001b[1;34m'longitude'\u001b[0m\u001b[1;33m]\u001b[0m\u001b[1;33m)\u001b[0m\u001b[1;33m.\u001b[0m\u001b[0mtolist\u001b[0m\u001b[1;33m(\u001b[0m\u001b[1;33m)\u001b[0m\u001b[1;33m\u001b[0m\u001b[1;33m\u001b[0m\u001b[0m\n\u001b[0;32m      4\u001b[0m \u001b[0mlatitude_list\u001b[0m\u001b[1;33m\u001b[0m\u001b[1;33m\u001b[0m\u001b[0m\n",
      "\u001b[1;32m~\\anaconda3\\lib\\site-packages\\pandas\\core\\series.py\u001b[0m in \u001b[0;36mwrapper\u001b[1;34m(self)\u001b[0m\n\u001b[0;32m    110\u001b[0m         \u001b[1;32mif\u001b[0m \u001b[0mlen\u001b[0m\u001b[1;33m(\u001b[0m\u001b[0mself\u001b[0m\u001b[1;33m)\u001b[0m \u001b[1;33m==\u001b[0m \u001b[1;36m1\u001b[0m\u001b[1;33m:\u001b[0m\u001b[1;33m\u001b[0m\u001b[1;33m\u001b[0m\u001b[0m\n\u001b[0;32m    111\u001b[0m             \u001b[1;32mreturn\u001b[0m \u001b[0mconverter\u001b[0m\u001b[1;33m(\u001b[0m\u001b[0mself\u001b[0m\u001b[1;33m.\u001b[0m\u001b[0miloc\u001b[0m\u001b[1;33m[\u001b[0m\u001b[1;36m0\u001b[0m\u001b[1;33m]\u001b[0m\u001b[1;33m)\u001b[0m\u001b[1;33m\u001b[0m\u001b[1;33m\u001b[0m\u001b[0m\n\u001b[1;32m--> 112\u001b[1;33m         \u001b[1;32mraise\u001b[0m \u001b[0mTypeError\u001b[0m\u001b[1;33m(\u001b[0m\u001b[1;34mf\"cannot convert the series to {converter}\"\u001b[0m\u001b[1;33m)\u001b[0m\u001b[1;33m\u001b[0m\u001b[1;33m\u001b[0m\u001b[0m\n\u001b[0m\u001b[0;32m    113\u001b[0m \u001b[1;33m\u001b[0m\u001b[0m\n\u001b[0;32m    114\u001b[0m     \u001b[0mwrapper\u001b[0m\u001b[1;33m.\u001b[0m\u001b[0m__name__\u001b[0m \u001b[1;33m=\u001b[0m \u001b[1;34mf\"__{converter.__name__}__\"\u001b[0m\u001b[1;33m\u001b[0m\u001b[1;33m\u001b[0m\u001b[0m\n",
      "\u001b[1;31mTypeError\u001b[0m: cannot convert the series to <class 'float'>"
     ]
    }
   ],
   "source": [
    "#把dataframe裡面的某欄變成list\n",
    "latitude_list = info['latitude'].tolist()\n",
    "longitude_list = info['longitude'].tolist()\n"
   ]
  },
  {
   "cell_type": "code",
   "execution_count": 91,
   "metadata": {},
   "outputs": [],
   "source": [
    "#把dataframe裡面的某欄變成list\n",
    "latitude_list = info['latitude'].tolist()\n",
    "longitude_list = info['longitude'].tolist()\n",
    "  \n",
    "gmap5 = gmplot.GoogleMapPlotter(24.44724, \n",
    "                                120.70499, 13) \n",
    "\n",
    "gmap5.heatmap(latitude_list, longitude_list) \n",
    "  \n",
    "gmap5.draw( r\"C:\\Users\\Lenovo\\數據分析\\天下專案\\map15.html\" ) "
   ]
  },
  {
   "cell_type": "code",
   "execution_count": 32,
   "metadata": {},
   "outputs": [],
   "source": [
    "inputfile.to_csv(\"geocoded-placenames.csv\")"
   ]
  },
  {
   "cell_type": "code",
   "execution_count": 1,
   "metadata": {},
   "outputs": [
    {
     "name": "stdout",
     "output_type": "stream",
     "text": [
      "Collecting folium\n",
      "  Downloading folium-0.11.0-py2.py3-none-any.whl (93 kB)\n",
      "Collecting branca>=0.3.0\n",
      "  Downloading branca-0.4.1-py3-none-any.whl (24 kB)\n",
      "Requirement already satisfied: requests in c:\\users\\lenovo\\anaconda3\\lib\\site-packages (from folium) (2.22.0)\n",
      "Requirement already satisfied: numpy in c:\\users\\lenovo\\anaconda3\\lib\\site-packages (from folium) (1.18.1)\n",
      "Requirement already satisfied: jinja2>=2.9 in c:\\users\\lenovo\\anaconda3\\lib\\site-packages (from folium) (2.11.1)\n",
      "Requirement already satisfied: chardet<3.1.0,>=3.0.2 in c:\\users\\lenovo\\anaconda3\\lib\\site-packages (from requests->folium) (3.0.4)\n",
      "Requirement already satisfied: idna<2.9,>=2.5 in c:\\users\\lenovo\\anaconda3\\lib\\site-packages (from requests->folium) (2.8)\n",
      "Requirement already satisfied: urllib3!=1.25.0,!=1.25.1,<1.26,>=1.21.1 in c:\\users\\lenovo\\anaconda3\\lib\\site-packages (from requests->folium) (1.25.8)\n",
      "Requirement already satisfied: certifi>=2017.4.17 in c:\\users\\lenovo\\anaconda3\\lib\\site-packages (from requests->folium) (2019.11.28)\n",
      "Requirement already satisfied: MarkupSafe>=0.23 in c:\\users\\lenovo\\anaconda3\\lib\\site-packages (from jinja2>=2.9->folium) (1.1.1)\n",
      "Installing collected packages: branca, folium\n",
      "Successfully installed branca-0.4.1 folium-0.11.0\n",
      "Note: you may need to restart the kernel to use updated packages.\n"
     ]
    }
   ],
   "source": [
    "pip install folium"
   ]
  },
  {
   "cell_type": "code",
   "execution_count": 32,
   "metadata": {
    "scrolled": true
   },
   "outputs": [
    {
     "name": "stdout",
     "output_type": "stream",
     "text": [
      "Connecting to wss://anvil.works/uplink\n",
      "Anvil websocket open\n",
      "Connected to \"Default environment (dev)\" as SERVER\n"
     ]
    }
   ],
   "source": [
    "import anvil.server\n",
    "anvil.server.connect(\"2SQQ6GADNM655OXSCZ4TFL3K-OPQOLYC6XIRDMJRX\")"
   ]
  },
  {
   "cell_type": "code",
   "execution_count": 33,
   "metadata": {
    "scrolled": true
   },
   "outputs": [],
   "source": [
    "import pandas as pd\n",
    "import anvil.media\n",
    "\n",
    "@anvil.server.callable\n",
    "def store_data(file):\n",
    "  with anvil.media.TempFile(file) as file_name:\n",
    "    if file.content_type == 'text/csv':\n",
    "      df = pd.read_csv(file_name)\n",
    "    else:\n",
    "      df = pd.read_excel(file_name)\n",
    "    for d in df.to_dict(orient=\"records\"):\n",
    "      # d is now a dict of {columnname -> value} for this row\n",
    "      # We use Python's **kwargs syntax to pass the whole dict as\n",
    "      # keyword arguments\n",
    "      app_tables.your_table_name_here.add_row(**d)"
   ]
  }
 ],
 "metadata": {
  "hide_input": false,
  "kernelspec": {
   "display_name": "Python 3",
   "language": "python",
   "name": "python3"
  },
  "language_info": {
   "codemirror_mode": {
    "name": "ipython",
    "version": 3
   },
   "file_extension": ".py",
   "mimetype": "text/x-python",
   "name": "python",
   "nbconvert_exporter": "python",
   "pygments_lexer": "ipython3",
   "version": "3.7.6"
  },
  "varInspector": {
   "cols": {
    "lenName": 16,
    "lenType": 16,
    "lenVar": 40
   },
   "kernels_config": {
    "python": {
     "delete_cmd_postfix": "",
     "delete_cmd_prefix": "del ",
     "library": "var_list.py",
     "varRefreshCmd": "print(var_dic_list())"
    },
    "r": {
     "delete_cmd_postfix": ") ",
     "delete_cmd_prefix": "rm(",
     "library": "var_list.r",
     "varRefreshCmd": "cat(var_dic_list()) "
    }
   },
   "oldHeight": 561.403222,
   "position": {
    "height": "583.181px",
    "left": "1518.67px",
    "right": "20px",
    "top": "511px",
    "width": "350px"
   },
   "types_to_exclude": [
    "module",
    "function",
    "builtin_function_or_method",
    "instance",
    "_Feature"
   ],
   "varInspector_section_display": "block",
   "window_display": false
  }
 },
 "nbformat": 4,
 "nbformat_minor": 2
}
